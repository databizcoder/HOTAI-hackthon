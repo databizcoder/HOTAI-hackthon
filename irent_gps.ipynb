{
 "cells": [
  {
   "cell_type": "code",
   "execution_count": 1,
   "metadata": {},
   "outputs": [],
   "source": [
    "import pandas as pd \n",
    "import matplotlib.pyplot as plt\n"
   ]
  },
  {
   "cell_type": "code",
   "execution_count": 2,
   "metadata": {},
   "outputs": [
    {
     "name": "stdout",
     "output_type": "stream",
     "text": [
      "(101099163, 6)\n"
     ]
    },
    {
     "data": {
      "text/html": [
       "<div>\n",
       "<style scoped>\n",
       "    .dataframe tbody tr th:only-of-type {\n",
       "        vertical-align: middle;\n",
       "    }\n",
       "\n",
       "    .dataframe tbody tr th {\n",
       "        vertical-align: top;\n",
       "    }\n",
       "\n",
       "    .dataframe thead th {\n",
       "        text-align: right;\n",
       "    }\n",
       "</style>\n",
       "<table border=\"1\" class=\"dataframe\">\n",
       "  <thead>\n",
       "    <tr style=\"text-align: right;\">\n",
       "      <th></th>\n",
       "      <th>iRent1</th>\n",
       "      <th>iRent2</th>\n",
       "      <th>iRent3</th>\n",
       "      <th>iRent4</th>\n",
       "      <th>iRent5</th>\n",
       "      <th>iRent6</th>\n",
       "    </tr>\n",
       "  </thead>\n",
       "  <tbody>\n",
       "    <tr>\n",
       "      <th>0</th>\n",
       "      <td>54964354</td>\n",
       "      <td>2021-04-05 15:52:16.0000000</td>\n",
       "      <td>25.139969</td>\n",
       "      <td>121.801906</td>\n",
       "      <td>28429.0</td>\n",
       "      <td>0</td>\n",
       "    </tr>\n",
       "    <tr>\n",
       "      <th>1</th>\n",
       "      <td>54964354</td>\n",
       "      <td>2021-04-05 15:52:19.0000000</td>\n",
       "      <td>25.139969</td>\n",
       "      <td>121.801906</td>\n",
       "      <td>28429.0</td>\n",
       "      <td>0</td>\n",
       "    </tr>\n",
       "    <tr>\n",
       "      <th>2</th>\n",
       "      <td>54964354</td>\n",
       "      <td>2021-04-05 15:54:43.0000000</td>\n",
       "      <td>25.139969</td>\n",
       "      <td>121.801906</td>\n",
       "      <td>0.0</td>\n",
       "      <td>0</td>\n",
       "    </tr>\n",
       "    <tr>\n",
       "      <th>3</th>\n",
       "      <td>54964354</td>\n",
       "      <td>2021-04-05 15:58:43.0000000</td>\n",
       "      <td>25.139969</td>\n",
       "      <td>121.801906</td>\n",
       "      <td>0.0</td>\n",
       "      <td>0</td>\n",
       "    </tr>\n",
       "    <tr>\n",
       "      <th>4</th>\n",
       "      <td>54964354</td>\n",
       "      <td>2021-04-05 16:02:43.0000000</td>\n",
       "      <td>25.139969</td>\n",
       "      <td>121.801906</td>\n",
       "      <td>0.0</td>\n",
       "      <td>0</td>\n",
       "    </tr>\n",
       "  </tbody>\n",
       "</table>\n",
       "</div>"
      ],
      "text/plain": [
       "     iRent1                       iRent2     iRent3      iRent4   iRent5  \\\n",
       "0  54964354  2021-04-05 15:52:16.0000000  25.139969  121.801906  28429.0   \n",
       "1  54964354  2021-04-05 15:52:19.0000000  25.139969  121.801906  28429.0   \n",
       "2  54964354  2021-04-05 15:54:43.0000000  25.139969  121.801906      0.0   \n",
       "3  54964354  2021-04-05 15:58:43.0000000  25.139969  121.801906      0.0   \n",
       "4  54964354  2021-04-05 16:02:43.0000000  25.139969  121.801906      0.0   \n",
       "\n",
       "   iRent6  \n",
       "0       0  \n",
       "1       0  \n",
       "2       0  \n",
       "3       0  \n",
       "4       0  "
      ]
     },
     "execution_count": 2,
     "metadata": {},
     "output_type": "execute_result"
    }
   ],
   "source": [
    "df = pd.read_csv('../Dataset/iRent去識別化數據(僅供本次賽事使用)_20220627/iRent車輛行駛GPS數據.csv')\n",
    "print(df.shape)\n",
    "df.head()"
   ]
  },
  {
   "cell_type": "code",
   "execution_count": 15,
   "metadata": {},
   "outputs": [],
   "source": [
    "df_354 = df.loc[df['iRent1'] == 54964354]\n",
    "df_354 = df_354.drop_duplicates(subset='iRent3', keep=\"first\")\n",
    "df_354 = df_354.sort_values(by=['iRent2'])"
   ]
  },
  {
   "cell_type": "code",
   "execution_count": 42,
   "metadata": {},
   "outputs": [],
   "source": [
    "df_099 = df.loc[df['iRent1'] == 54965099]\n",
    "df_099 = df_099.drop_duplicates(subset='iRent3', keep=\"first\")\n",
    "df_099 = df_099.sort_values(by=['iRent2'])"
   ]
  },
  {
   "cell_type": "code",
   "execution_count": 43,
   "metadata": {},
   "outputs": [],
   "source": [
    "df_426 = df.loc[df['iRent1'] == 54965426]\n",
    "df_426 = df_426.drop_duplicates(subset='iRent3', keep=\"first\")\n",
    "df_426 = df_426.sort_values(by=['iRent2'])"
   ]
  },
  {
   "cell_type": "code",
   "execution_count": 41,
   "metadata": {},
   "outputs": [
    {
     "data": {
      "text/html": [
       "<div>\n",
       "<style scoped>\n",
       "    .dataframe tbody tr th:only-of-type {\n",
       "        vertical-align: middle;\n",
       "    }\n",
       "\n",
       "    .dataframe tbody tr th {\n",
       "        vertical-align: top;\n",
       "    }\n",
       "\n",
       "    .dataframe thead th {\n",
       "        text-align: right;\n",
       "    }\n",
       "</style>\n",
       "<table border=\"1\" class=\"dataframe\">\n",
       "  <thead>\n",
       "    <tr style=\"text-align: right;\">\n",
       "      <th></th>\n",
       "      <th>iRent1</th>\n",
       "      <th>iRent2</th>\n",
       "      <th>iRent3</th>\n",
       "      <th>iRent4</th>\n",
       "      <th>iRent5</th>\n",
       "      <th>iRent6</th>\n",
       "    </tr>\n",
       "  </thead>\n",
       "  <tbody>\n",
       "    <tr>\n",
       "      <th>676</th>\n",
       "      <td>54965426</td>\n",
       "      <td>2021-04-05 14:50:24.0000000</td>\n",
       "      <td>25.057869</td>\n",
       "      <td>121.614631</td>\n",
       "      <td>0.0</td>\n",
       "      <td>0</td>\n",
       "    </tr>\n",
       "    <tr>\n",
       "      <th>677</th>\n",
       "      <td>54965426</td>\n",
       "      <td>2021-04-05 14:50:24.0000000</td>\n",
       "      <td>25.057869</td>\n",
       "      <td>121.614631</td>\n",
       "      <td>0.0</td>\n",
       "      <td>0</td>\n",
       "    </tr>\n",
       "    <tr>\n",
       "      <th>678</th>\n",
       "      <td>54965426</td>\n",
       "      <td>2021-04-05 14:50:25.0000000</td>\n",
       "      <td>25.057869</td>\n",
       "      <td>121.614631</td>\n",
       "      <td>41761.0</td>\n",
       "      <td>0</td>\n",
       "    </tr>\n",
       "    <tr>\n",
       "      <th>679</th>\n",
       "      <td>54965426</td>\n",
       "      <td>2021-04-05 14:50:24.0000000</td>\n",
       "      <td>25.057869</td>\n",
       "      <td>121.614631</td>\n",
       "      <td>0.0</td>\n",
       "      <td>0</td>\n",
       "    </tr>\n",
       "    <tr>\n",
       "      <th>680</th>\n",
       "      <td>54965426</td>\n",
       "      <td>2021-04-05 14:50:25.0000000</td>\n",
       "      <td>25.057869</td>\n",
       "      <td>121.614631</td>\n",
       "      <td>41761.0</td>\n",
       "      <td>0</td>\n",
       "    </tr>\n",
       "    <tr>\n",
       "      <th>...</th>\n",
       "      <td>...</td>\n",
       "      <td>...</td>\n",
       "      <td>...</td>\n",
       "      <td>...</td>\n",
       "      <td>...</td>\n",
       "      <td>...</td>\n",
       "    </tr>\n",
       "    <tr>\n",
       "      <th>930</th>\n",
       "      <td>54965426</td>\n",
       "      <td>2021-04-05 15:31:48.0000000</td>\n",
       "      <td>25.073128</td>\n",
       "      <td>121.359569</td>\n",
       "      <td>0.0</td>\n",
       "      <td>0</td>\n",
       "    </tr>\n",
       "    <tr>\n",
       "      <th>931</th>\n",
       "      <td>54965426</td>\n",
       "      <td>2021-04-05 15:31:50.0000000</td>\n",
       "      <td>25.073128</td>\n",
       "      <td>121.359569</td>\n",
       "      <td>41791.0</td>\n",
       "      <td>0</td>\n",
       "    </tr>\n",
       "    <tr>\n",
       "      <th>932</th>\n",
       "      <td>54965426</td>\n",
       "      <td>2021-04-05 15:31:51.0000000</td>\n",
       "      <td>25.073128</td>\n",
       "      <td>121.359569</td>\n",
       "      <td>41791.0</td>\n",
       "      <td>0</td>\n",
       "    </tr>\n",
       "    <tr>\n",
       "      <th>933</th>\n",
       "      <td>54965426</td>\n",
       "      <td>2021-04-05 15:31:53.0000000</td>\n",
       "      <td>25.073128</td>\n",
       "      <td>121.359569</td>\n",
       "      <td>41791.0</td>\n",
       "      <td>0</td>\n",
       "    </tr>\n",
       "    <tr>\n",
       "      <th>934</th>\n",
       "      <td>54965426</td>\n",
       "      <td>2021-04-05 15:32:00.0000000</td>\n",
       "      <td>25.073128</td>\n",
       "      <td>121.359569</td>\n",
       "      <td>41791.0</td>\n",
       "      <td>0</td>\n",
       "    </tr>\n",
       "  </tbody>\n",
       "</table>\n",
       "<p>259 rows × 6 columns</p>\n",
       "</div>"
      ],
      "text/plain": [
       "       iRent1                       iRent2     iRent3      iRent4   iRent5  \\\n",
       "676  54965426  2021-04-05 14:50:24.0000000  25.057869  121.614631      0.0   \n",
       "677  54965426  2021-04-05 14:50:24.0000000  25.057869  121.614631      0.0   \n",
       "678  54965426  2021-04-05 14:50:25.0000000  25.057869  121.614631  41761.0   \n",
       "679  54965426  2021-04-05 14:50:24.0000000  25.057869  121.614631      0.0   \n",
       "680  54965426  2021-04-05 14:50:25.0000000  25.057869  121.614631  41761.0   \n",
       "..        ...                          ...        ...         ...      ...   \n",
       "930  54965426  2021-04-05 15:31:48.0000000  25.073128  121.359569      0.0   \n",
       "931  54965426  2021-04-05 15:31:50.0000000  25.073128  121.359569  41791.0   \n",
       "932  54965426  2021-04-05 15:31:51.0000000  25.073128  121.359569  41791.0   \n",
       "933  54965426  2021-04-05 15:31:53.0000000  25.073128  121.359569  41791.0   \n",
       "934  54965426  2021-04-05 15:32:00.0000000  25.073128  121.359569  41791.0   \n",
       "\n",
       "     iRent6  \n",
       "676       0  \n",
       "677       0  \n",
       "678       0  \n",
       "679       0  \n",
       "680       0  \n",
       "..      ...  \n",
       "930       0  \n",
       "931       0  \n",
       "932       0  \n",
       "933       0  \n",
       "934       0  \n",
       "\n",
       "[259 rows x 6 columns]"
      ]
     },
     "execution_count": 41,
     "metadata": {},
     "output_type": "execute_result"
    }
   ],
   "source": [
    "df.loc[df['iRent1'] == 54965426]"
   ]
  },
  {
   "cell_type": "code",
   "execution_count": 58,
   "metadata": {},
   "outputs": [],
   "source": [
    "from gmplot import *  \n",
    "\n",
    "firstGmap = gmplot.GoogleMapPlotter(25.10, 121.50, 18)  \n",
    "firstGmap.draw( \"firstmap.html\" )  "
   ]
  },
  {
   "cell_type": "code",
   "execution_count": 38,
   "metadata": {},
   "outputs": [
    {
     "data": {
      "text/plain": [
       "array([54964354, 54965099, 54965426, ..., 75379387, 75380182, 75380353])"
      ]
     },
     "execution_count": 38,
     "metadata": {},
     "output_type": "execute_result"
    }
   ],
   "source": [
    "df[df['iRent3'] > 24.9].iRent1.unique()"
   ]
  },
  {
   "cell_type": "code",
   "execution_count": 54,
   "metadata": {},
   "outputs": [
    {
     "data": {
      "image/png": "[encoded data removed]",
      "text/plain": [
       "<Figure size 640x480 with 1 Axes>"
      ]
     },
     "metadata": {},
     "output_type": "display_data"
    }
   ],
   "source": [
    "fig, ax = plt.subplots()\n",
    "#markers_on = [12, 17, 18, 19]\n",
    "plt.plot(df_426['iRent3'], df_426['iRent4'], c = 'slategrey', zorder = 1)\n",
    "plt.plot(df_099['iRent3'], df_099['iRent4'], c = 'steelblue')\n",
    "plt.xlabel(\"Longtitude\")\n",
    "plt.ylabel(\"Lattitude\")\n",
    "plt.legend([\"ID = 54965426\", \"ID = 54965099\"], loc =\"upper right\")\n",
    "\n",
    "ax.scatter(df_426['iRent3'].iloc[0], df_426['iRent4'].iloc[0], marker='o', color='red')\n",
    "ax.scatter(df_426['iRent3'].iloc[-1], df_426['iRent4'].iloc[-1], marker='o', color='red')\n",
    "\n",
    "ax.scatter(df_099['iRent3'].iloc[0], df_099['iRent4'].iloc[0], marker='o', color='red')\n",
    "ax.scatter(df_099['iRent3'].iloc[-1], df_099['iRent4'].iloc[-1], marker='o', color='red')\n",
    "\n",
    "plt.legend([\"ID = 54965426\", \"ID = 54965099\"], loc =\"upper right\")\n",
    "ax.grid()\n",
    "plt.show()\n",
    "\n",
    "fig.savefig('Trans_route.png', transparent=True)"
   ]
  },
  {
   "cell_type": "code",
   "execution_count": 25,
   "metadata": {},
   "outputs": [],
   "source": [
    "df_381 = df.loc[df['iRent1'] == 83239381]"
   ]
  },
  {
   "cell_type": "code",
   "execution_count": 5,
   "metadata": {},
   "outputs": [
    {
     "data": {
      "text/plain": [
       "83239381     32532\n",
       "84362630     31309\n",
       "38441092     30821\n",
       "110226551    30177\n",
       "40902740     25147\n",
       "             ...  \n",
       "105680982        1\n",
       "55501557         1\n",
       "50750806         1\n",
       "131651500        1\n",
       "67481758         1\n",
       "Name: iRent1, Length: 407926, dtype: int64"
      ]
     },
     "execution_count": 5,
     "metadata": {},
     "output_type": "execute_result"
    }
   ],
   "source": [
    "df.iRent1.value_counts()"
   ]
  },
  {
   "cell_type": "markdown",
   "metadata": {},
   "source": [
    "Data Preprocessing"
   ]
  },
  {
   "cell_type": "code",
   "execution_count": 7,
   "metadata": {},
   "outputs": [
    {
     "data": {
      "text/plain": [
       "(45924445, 6)"
      ]
     },
     "execution_count": 7,
     "metadata": {},
     "output_type": "execute_result"
    }
   ],
   "source": [
    "df = df[(df.iRent5 != 0) & (df.iRent6 != 0)]\n",
    "df.shape"
   ]
  },
  {
   "cell_type": "code",
   "execution_count": 11,
   "metadata": {},
   "outputs": [
    {
     "data": {
      "text/html": [
       "<div>\n",
       "<style scoped>\n",
       "    .dataframe tbody tr th:only-of-type {\n",
       "        vertical-align: middle;\n",
       "    }\n",
       "\n",
       "    .dataframe tbody tr th {\n",
       "        vertical-align: top;\n",
       "    }\n",
       "\n",
       "    .dataframe thead th {\n",
       "        text-align: right;\n",
       "    }\n",
       "</style>\n",
       "<table border=\"1\" class=\"dataframe\">\n",
       "  <thead>\n",
       "    <tr style=\"text-align: right;\">\n",
       "      <th></th>\n",
       "      <th>iRent1</th>\n",
       "      <th>iRent2</th>\n",
       "      <th>iRent3</th>\n",
       "      <th>iRent4</th>\n",
       "      <th>iRent5</th>\n",
       "      <th>iRent6</th>\n",
       "    </tr>\n",
       "  </thead>\n",
       "  <tbody>\n",
       "    <tr>\n",
       "      <th>9</th>\n",
       "      <td>54964354</td>\n",
       "      <td>2021-04-05 18:16:00.0000000</td>\n",
       "      <td>25.103403</td>\n",
       "      <td>121.740836</td>\n",
       "      <td>28439.0</td>\n",
       "      <td>68</td>\n",
       "    </tr>\n",
       "    <tr>\n",
       "      <th>10</th>\n",
       "      <td>54964354</td>\n",
       "      <td>2021-04-05 18:16:30.0000000</td>\n",
       "      <td>25.104692</td>\n",
       "      <td>121.736164</td>\n",
       "      <td>28439.0</td>\n",
       "      <td>33</td>\n",
       "    </tr>\n",
       "    <tr>\n",
       "      <th>15</th>\n",
       "      <td>54964354</td>\n",
       "      <td>2021-04-05 18:19:00.0000000</td>\n",
       "      <td>25.104828</td>\n",
       "      <td>121.734847</td>\n",
       "      <td>28439.0</td>\n",
       "      <td>32</td>\n",
       "    </tr>\n",
       "    <tr>\n",
       "      <th>16</th>\n",
       "      <td>54964354</td>\n",
       "      <td>2021-04-05 18:19:30.0000000</td>\n",
       "      <td>25.106108</td>\n",
       "      <td>121.730844</td>\n",
       "      <td>28440.0</td>\n",
       "      <td>53</td>\n",
       "    </tr>\n",
       "    <tr>\n",
       "      <th>17</th>\n",
       "      <td>54964354</td>\n",
       "      <td>2021-04-05 18:20:00.0000000</td>\n",
       "      <td>25.105136</td>\n",
       "      <td>121.725294</td>\n",
       "      <td>28441.0</td>\n",
       "      <td>89</td>\n",
       "    </tr>\n",
       "  </tbody>\n",
       "</table>\n",
       "</div>"
      ],
      "text/plain": [
       "      iRent1                       iRent2     iRent3      iRent4   iRent5  \\\n",
       "9   54964354  2021-04-05 18:16:00.0000000  25.103403  121.740836  28439.0   \n",
       "10  54964354  2021-04-05 18:16:30.0000000  25.104692  121.736164  28439.0   \n",
       "15  54964354  2021-04-05 18:19:00.0000000  25.104828  121.734847  28439.0   \n",
       "16  54964354  2021-04-05 18:19:30.0000000  25.106108  121.730844  28440.0   \n",
       "17  54964354  2021-04-05 18:20:00.0000000  25.105136  121.725294  28441.0   \n",
       "\n",
       "    iRent6  \n",
       "9       68  \n",
       "10      33  \n",
       "15      32  \n",
       "16      53  \n",
       "17      89  "
      ]
     },
     "execution_count": 11,
     "metadata": {},
     "output_type": "execute_result"
    }
   ],
   "source": [
    "df.head()"
   ]
  }
 ],
 "metadata": {
  "kernelspec": {
   "display_name": "Python 3.10.6 ('HOTAI-xmqxT9Ly')",
   "language": "python",
   "name": "python3"
  },
  "language_info": {
   "codemirror_mode": {
    "name": "ipython",
    "version": 3
   },
   "file_extension": ".py",
   "mimetype": "text/x-python",
   "name": "python",
   "nbconvert_exporter": "python",
   "pygments_lexer": "ipython3",
   "version": "3.10.8"
  },
  "orig_nbformat": 4,
  "vscode": {
   "interpreter": {
    "hash": "58c4ff3bf00527d3dc43688314088c98fbbe051f90418fc52f126ce1e392d7f7"
   }
  }
 },
 "nbformat": 4,
 "nbformat_minor": 2
}
