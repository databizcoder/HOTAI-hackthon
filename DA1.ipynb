{
 "cells": [
  {
   "cell_type": "code",
   "execution_count": 2,
   "metadata": {},
   "outputs": [],
   "source": [
    "import pandas as pd\n",
    "import numpy as np\n",
    "import matplotlib.pyplot as plt\n",
    "import seaborn as sns"
   ]
  },
  {
   "cell_type": "code",
   "execution_count": 3,
   "metadata": {},
   "outputs": [
    {
     "name": "stdout",
     "output_type": "stream",
     "text": [
      "(403331, 15)\n"
     ]
    },
    {
     "data": {
      "text/html": [
       "<div>\n",
       "<style scoped>\n",
       "    .dataframe tbody tr th:only-of-type {\n",
       "        vertical-align: middle;\n",
       "    }\n",
       "\n",
       "    .dataframe tbody tr th {\n",
       "        vertical-align: top;\n",
       "    }\n",
       "\n",
       "    .dataframe thead th {\n",
       "        text-align: right;\n",
       "    }\n",
       "</style>\n",
       "<table border=\"1\" class=\"dataframe\">\n",
       "  <thead>\n",
       "    <tr style=\"text-align: right;\">\n",
       "      <th></th>\n",
       "      <th>iRent_1</th>\n",
       "      <th>iRent_2</th>\n",
       "      <th>iRent_3</th>\n",
       "      <th>iRent_4</th>\n",
       "      <th>iRent_5</th>\n",
       "      <th>iRent_6</th>\n",
       "      <th>iRent_7</th>\n",
       "      <th>iRent_8</th>\n",
       "      <th>iRent_9</th>\n",
       "      <th>iRent_10</th>\n",
       "      <th>iRent_11</th>\n",
       "      <th>iRent_12</th>\n",
       "      <th>iRent_13</th>\n",
       "      <th>iRent_14</th>\n",
       "      <th>iRent_15</th>\n",
       "    </tr>\n",
       "  </thead>\n",
       "  <tbody>\n",
       "    <tr>\n",
       "      <th>0</th>\n",
       "      <td>A10002139</td>\n",
       "      <td>31-35</td>\n",
       "      <td>M</td>\n",
       "      <td>台北市</td>\n",
       "      <td>文山區</td>\n",
       "      <td>40366241</td>\n",
       "      <td>2021/04/01 18:06:14</td>\n",
       "      <td>516</td>\n",
       "      <td>2021/04/01 18:10:20</td>\n",
       "      <td>2021/04/01 22:12:29</td>\n",
       "      <td>40.0</td>\n",
       "      <td>RCF-6972</td>\n",
       "      <td>TOYOTA/PRIUSc</td>\n",
       "      <td>car</td>\n",
       "      <td>201904</td>\n",
       "    </tr>\n",
       "    <tr>\n",
       "      <th>1</th>\n",
       "      <td>A10002478</td>\n",
       "      <td>31-35</td>\n",
       "      <td>M</td>\n",
       "      <td>台北市</td>\n",
       "      <td>中正區</td>\n",
       "      <td>73561565</td>\n",
       "      <td>2021/04/11 11:40:08</td>\n",
       "      <td>37</td>\n",
       "      <td>2021/04/11 11:42:09</td>\n",
       "      <td>2021/04/11 12:06:09</td>\n",
       "      <td>5.5</td>\n",
       "      <td>EWA-0325</td>\n",
       "      <td>KYMCO/MANY-110</td>\n",
       "      <td>motor</td>\n",
       "      <td>201909</td>\n",
       "    </tr>\n",
       "    <tr>\n",
       "      <th>2</th>\n",
       "      <td>A10002478</td>\n",
       "      <td>31-35</td>\n",
       "      <td>M</td>\n",
       "      <td>台北市</td>\n",
       "      <td>中正區</td>\n",
       "      <td>113588372</td>\n",
       "      <td>2021/04/24 12:05:24</td>\n",
       "      <td>19</td>\n",
       "      <td>2021/04/24 12:07:29</td>\n",
       "      <td>2021/04/24 12:19:04</td>\n",
       "      <td>2.5</td>\n",
       "      <td>EWH-7300</td>\n",
       "      <td>KYMCO/MANY-110</td>\n",
       "      <td>motor</td>\n",
       "      <td>201911</td>\n",
       "    </tr>\n",
       "    <tr>\n",
       "      <th>3</th>\n",
       "      <td>A10002651</td>\n",
       "      <td>31-35</td>\n",
       "      <td>M</td>\n",
       "      <td>新北市</td>\n",
       "      <td>永和區</td>\n",
       "      <td>79976100</td>\n",
       "      <td>2021/04/13 13:36:36</td>\n",
       "      <td>717</td>\n",
       "      <td>2021/04/13 13:40:21</td>\n",
       "      <td>2021/04/13 16:41:53</td>\n",
       "      <td>90.0</td>\n",
       "      <td>RCK-8260</td>\n",
       "      <td>TOYOTA/YARIS</td>\n",
       "      <td>car</td>\n",
       "      <td>201901</td>\n",
       "    </tr>\n",
       "    <tr>\n",
       "      <th>4</th>\n",
       "      <td>A10002984</td>\n",
       "      <td>31-35</td>\n",
       "      <td>M</td>\n",
       "      <td>台北市</td>\n",
       "      <td>文山區</td>\n",
       "      <td>58906802</td>\n",
       "      <td>2021/04/06 19:30:49</td>\n",
       "      <td>284</td>\n",
       "      <td>2021/04/06 19:42:04</td>\n",
       "      <td>2021/04/06 20:46:05</td>\n",
       "      <td>45.0</td>\n",
       "      <td>RCF-8171</td>\n",
       "      <td>TOYOTA/PRIUSc</td>\n",
       "      <td>car</td>\n",
       "      <td>201906</td>\n",
       "    </tr>\n",
       "  </tbody>\n",
       "</table>\n",
       "</div>"
      ],
      "text/plain": [
       "     iRent_1 iRent_2 iRent_3 iRent_4 iRent_5    iRent_6              iRent_7  \\\n",
       "0  A10002139   31-35       M     台北市     文山區   40366241  2021/04/01 18:06:14   \n",
       "1  A10002478   31-35       M     台北市     中正區   73561565  2021/04/11 11:40:08   \n",
       "2  A10002478   31-35       M     台北市     中正區  113588372  2021/04/24 12:05:24   \n",
       "3  A10002651   31-35       M     新北市     永和區   79976100  2021/04/13 13:36:36   \n",
       "4  A10002984   31-35       M     台北市     文山區   58906802  2021/04/06 19:30:49   \n",
       "\n",
       "   iRent_8              iRent_9             iRent_10  iRent_11  iRent_12  \\\n",
       "0      516  2021/04/01 18:10:20  2021/04/01 22:12:29      40.0  RCF-6972   \n",
       "1       37  2021/04/11 11:42:09  2021/04/11 12:06:09       5.5  EWA-0325   \n",
       "2       19  2021/04/24 12:07:29  2021/04/24 12:19:04       2.5  EWH-7300   \n",
       "3      717  2021/04/13 13:40:21  2021/04/13 16:41:53      90.0  RCK-8260   \n",
       "4      284  2021/04/06 19:42:04  2021/04/06 20:46:05      45.0  RCF-8171   \n",
       "\n",
       "         iRent_13 iRent_14  iRent_15  \n",
       "0   TOYOTA/PRIUSc      car    201904  \n",
       "1  KYMCO/MANY-110    motor    201909  \n",
       "2  KYMCO/MANY-110    motor    201911  \n",
       "3    TOYOTA/YARIS      car    201901  \n",
       "4   TOYOTA/PRIUSc      car    201906  "
      ]
     },
     "execution_count": 3,
     "metadata": {},
     "output_type": "execute_result"
    }
   ],
   "source": [
    "df = pd.read_csv('../Dataset/iRent去識別化數據(僅供本次賽事使用)_20220627/iRent顧客租車交易資料.csv', encoding= 'big5')\n",
    "print(df.shape)\n",
    "df.head()\n",
    "\n",
    "#df.info()\n",
    "\n",
    "# drop unused column\n",
    "#df = df.drop(['iRent_6', 'iRent_12'], axis=1)\n",
    "#df.head()"
   ]
  },
  {
   "cell_type": "code",
   "execution_count": 15,
   "metadata": {},
   "outputs": [
    {
     "data": {
      "text/plain": [
       "A5119538      True\n",
       "A3864461      True\n",
       "C27878761    False\n",
       "N81083723    False\n",
       "F38761443    False\n",
       "             ...  \n",
       "A8784891     False\n",
       "G63426482    False\n",
       "G63426697    False\n",
       "G63426764    False\n",
       "A10002139    False\n",
       "Name: iRent_1, Length: 122310, dtype: bool"
      ]
     },
     "execution_count": 15,
     "metadata": {},
     "output_type": "execute_result"
    }
   ],
   "source": [
    "df['iRent_1'].value_counts()>200"
   ]
  },
  {
   "cell_type": "code",
   "execution_count": 7,
   "metadata": {},
   "outputs": [
    {
     "data": {
      "text/plain": [
       "784.1003637233185"
      ]
     },
     "execution_count": 7,
     "metadata": {},
     "output_type": "execute_result"
    }
   ],
   "source": [
    "df_car = df[df['iRent_14'] == 'car']\n",
    "sum(df_car['iRent_8'])/df_car.shape[0]"
   ]
  },
  {
   "cell_type": "code",
   "execution_count": 8,
   "metadata": {},
   "outputs": [
    {
     "data": {
      "text/plain": [
       "158912"
      ]
     },
     "execution_count": 8,
     "metadata": {},
     "output_type": "execute_result"
    }
   ],
   "source": [
    "df_car.shape[0]"
   ]
  },
  {
   "cell_type": "code",
   "execution_count": 11,
   "metadata": {},
   "outputs": [
    {
     "data": {
      "text/plain": [
       "42656     2021/01/31 20:24:40\n",
       "76420     2021/02/02 10:13:29\n",
       "4480      2021/02/02 18:22:00\n",
       "185999    2021/02/03 00:35:26\n",
       "268974    2021/02/03 11:25:42\n",
       "                 ...         \n",
       "201091    2021/04/30 23:21:01\n",
       "220522    2021/04/30 23:23:21\n",
       "176879    2021/04/30 23:23:32\n",
       "13034     2021/04/30 23:25:14\n",
       "254695    2021/04/30 23:33:19\n",
       "Name: iRent_7, Length: 158912, dtype: object"
      ]
     },
     "execution_count": 11,
     "metadata": {},
     "output_type": "execute_result"
    }
   ],
   "source": [
    "df_car['iRent_7'].sort_values()"
   ]
  },
  {
   "cell_type": "code",
   "execution_count": null,
   "metadata": {},
   "outputs": [],
   "source": []
  },
  {
   "cell_type": "code",
   "execution_count": 52,
   "metadata": {},
   "outputs": [
    {
     "data": {
      "text/plain": [
       "42656     2021/01/31 20:24:40\n",
       "76420     2021/02/02 10:13:29\n",
       "4480      2021/02/02 18:22:00\n",
       "185999    2021/02/03 00:35:26\n",
       "268974    2021/02/03 11:25:42\n",
       "                 ...         \n",
       "264903    2021/04/30 23:49:56\n",
       "64430     2021/04/30 23:50:07\n",
       "129614    2021/04/30 23:51:04\n",
       "22685     2021/04/30 23:51:08\n",
       "40198     2021/04/30 23:54:58\n",
       "Name: iRent_7, Length: 403331, dtype: object"
      ]
     },
     "execution_count": 52,
     "metadata": {},
     "output_type": "execute_result"
    }
   ],
   "source": [
    "#一季\n",
    "df['iRent_7'].sort_values()"
   ]
  },
  {
   "cell_type": "code",
   "execution_count": 37,
   "metadata": {},
   "outputs": [
    {
     "data": {
      "text/plain": [
       "348.73942106182324"
      ]
     },
     "execution_count": 37,
     "metadata": {},
     "output_type": "execute_result"
    }
   ],
   "source": [
    "df_money = df[(df['iRent_4'] == '台北市')|(df['iRent_4'] == '新北市')]\n",
    "sum(df_money['iRent_8'])/len(df_money)"
   ]
  },
  {
   "cell_type": "code",
   "execution_count": 31,
   "metadata": {},
   "outputs": [
    {
     "data": {
      "text/plain": [
       "(122310, 15)"
      ]
     },
     "execution_count": 31,
     "metadata": {},
     "output_type": "execute_result"
    }
   ],
   "source": [
    "id_lst = df['iRent_1'].unique()\n",
    "len(id_lst)\n",
    "\n",
    "#df['']\n",
    "#df['iRent_11'] >= 20)\n",
    "\n",
    "#df.loc[df['iRent_1'].isin(id_lst)]\n",
    "\n",
    "df_id = df.drop_duplicates(subset = \"iRent_1\")\n",
    "df_id.shape"
   ]
  },
  {
   "cell_type": "code",
   "execution_count": 32,
   "metadata": {},
   "outputs": [
    {
     "data": {
      "text/plain": [
       "0.5504455890769356"
      ]
     },
     "execution_count": 32,
     "metadata": {},
     "output_type": "execute_result"
    }
   ],
   "source": [
    "len(df_id[(df_id['iRent_4'] == '台北市')|(df_id['iRent_4'] == '新北市')])/len(df_id)"
   ]
  },
  {
   "cell_type": "code",
   "execution_count": 34,
   "metadata": {},
   "outputs": [
    {
     "data": {
      "text/plain": [
       "67325"
      ]
     },
     "execution_count": 34,
     "metadata": {},
     "output_type": "execute_result"
    }
   ],
   "source": [
    "len(df_id[(df_id['iRent_4'] == '台北市')|(df_id['iRent_4'] == '新北市')])"
   ]
  },
  {
   "cell_type": "code",
   "execution_count": 40,
   "metadata": {},
   "outputs": [
    {
     "data": {
      "text/plain": [
       "641.6529372447085"
      ]
     },
     "execution_count": 40,
     "metadata": {},
     "output_type": "execute_result"
    }
   ],
   "source": [
    "sum(df_id[(df_id['iRent_4'] == '台北市')|(df_id['iRent_4'] == '新北市')]['iRent_8'])/len(df_id[(df_id['iRent_4'] == '台北市')|(df_id['iRent_4'] == '新北市')]['iRent_8'])"
   ]
  },
  {
   "cell_type": "code",
   "execution_count": 44,
   "metadata": {},
   "outputs": [
    {
     "data": {
      "text/plain": [
       "42656     2021/01/31 20:24:40\n",
       "76420     2021/02/02 10:13:29\n",
       "4480      2021/02/02 18:22:00\n",
       "185999    2021/02/03 00:35:26\n",
       "268974    2021/02/03 11:25:42\n",
       "                 ...         \n",
       "264903    2021/04/30 23:49:56\n",
       "64430     2021/04/30 23:50:07\n",
       "129614    2021/04/30 23:51:04\n",
       "22685     2021/04/30 23:51:08\n",
       "40198     2021/04/30 23:54:58\n",
       "Name: iRent_7, Length: 403331, dtype: object"
      ]
     },
     "execution_count": 44,
     "metadata": {},
     "output_type": "execute_result"
    }
   ],
   "source": [
    "df['iRent_7'].sort_values()"
   ]
  },
  {
   "cell_type": "code",
   "execution_count": 4,
   "metadata": {},
   "outputs": [
    {
     "data": {
      "text/plain": [
       "<bound method Series.unique of 0         2021/04/01 18:06:14\n",
       "1         2021/04/11 11:40:08\n",
       "2         2021/04/24 12:05:24\n",
       "3         2021/04/13 13:36:36\n",
       "4         2021/04/06 19:30:49\n",
       "                 ...         \n",
       "403326    2021/04/19 13:07:50\n",
       "403327    2021/04/26 21:34:31\n",
       "403328    2021/04/27 12:32:00\n",
       "403329    2021/04/29 19:32:35\n",
       "403330    2021/04/30 07:45:28\n",
       "Name: iRent_7, Length: 403331, dtype: object>"
      ]
     },
     "execution_count": 4,
     "metadata": {},
     "output_type": "execute_result"
    }
   ],
   "source": [
    "df['iRent_7'].unique"
   ]
  },
  {
   "cell_type": "code",
   "execution_count": 5,
   "metadata": {},
   "outputs": [
    {
     "data": {
      "text/plain": [
       "67325"
      ]
     },
     "execution_count": 5,
     "metadata": {},
     "output_type": "execute_result"
    }
   ],
   "source": [
    "len(df_id[(df_id['iRent_4'] == '台北市')|(df_id['iRent_4'] == '新北市')])"
   ]
  },
  {
   "cell_type": "code",
   "execution_count": 45,
   "metadata": {},
   "outputs": [
    {
     "data": {
      "text/plain": [
       "641.6529372447085"
      ]
     },
     "execution_count": 45,
     "metadata": {},
     "output_type": "execute_result"
    }
   ],
   "source": [
    "df_id_taipei = df_id[(df_id['iRent_4'] == '台北市')|(df_id['iRent_4'] == '新北市')]\n",
    "sum(df_id_taipei['iRent_8'])/ len(df_id_taipei)"
   ]
  },
  {
   "cell_type": "code",
   "execution_count": 7,
   "metadata": {},
   "outputs": [
    {
     "data": {
      "text/plain": [
       "348.73942106182324"
      ]
     },
     "execution_count": 7,
     "metadata": {},
     "output_type": "execute_result"
    }
   ],
   "source": [
    "df_taipei_avgcost = df[(df['iRent_4'] == '台北市')|(df['iRent_4'] == '新北市')]['iRent_8']\n",
    "sum(df_taipei_avgcost)/ len(df_taipei_avgcost)"
   ]
  },
  {
   "cell_type": "code",
   "execution_count": 50,
   "metadata": {},
   "outputs": [
    {
     "data": {
      "text/plain": [
       "42656     2021/01/31 20:24:40\n",
       "76420     2021/02/02 10:13:29\n",
       "185999    2021/02/03 00:35:26\n",
       "82716     2021/02/03 15:59:59\n",
       "87181     2021/02/06 16:09:56\n",
       "                 ...         \n",
       "51879     2021/04/30 23:31:26\n",
       "321574    2021/04/30 23:42:28\n",
       "234695    2021/04/30 23:45:56\n",
       "182094    2021/04/30 23:47:23\n",
       "40198     2021/04/30 23:54:58\n",
       "Name: iRent_7, Length: 67325, dtype: object"
      ]
     },
     "execution_count": 50,
     "metadata": {},
     "output_type": "execute_result"
    }
   ],
   "source": [
    "df_id_taipei['iRent_7'].sort_values()"
   ]
  },
  {
   "cell_type": "code",
   "execution_count": 8,
   "metadata": {},
   "outputs": [
    {
     "data": {
      "text/plain": [
       "5265433"
      ]
     },
     "execution_count": 8,
     "metadata": {},
     "output_type": "execute_result"
    }
   ],
   "source": [
    "2800981+2464452"
   ]
  },
  {
   "cell_type": "code",
   "execution_count": 4,
   "metadata": {},
   "outputs": [
    {
     "data": {
      "text/plain": [
       "<AxesSubplot: ylabel='Age'>"
      ]
     },
     "execution_count": 4,
     "metadata": {},
     "output_type": "execute_result"
    },
    {
     "data": {
      "image/png": "[encoded data removed]",
      "text/plain": [
       "<Figure size 640x480 with 1 Axes>"
      ]
     },
     "metadata": {},
     "output_type": "display_data"
    }
   ],
   "source": [
    "df['iRent_2'].value_counts().plot(kind='pie', label = 'Age', autopct='%1.0f%%')"
   ]
  },
  {
   "cell_type": "code",
   "execution_count": 5,
   "metadata": {},
   "outputs": [
    {
     "name": "stdout",
     "output_type": "stream",
     "text": [
      "0.99\n",
      "0.01\n",
      "0.00\n"
     ]
    }
   ],
   "source": [
    "df_car = df[df['iRent_14'] == 'car']\n",
    "df_motor = df[df['iRent_14'] == 'motor']\n",
    "\n",
    "a = len(df_motor[df_motor['iRent_11'] < 20])/ df_motor.shape[0]\n",
    "print(\"%.2f\" % a)\n",
    "\n",
    "b = len(df_motor[(df_motor['iRent_11'] >= 20) & (df_motor['iRent_11'] < 100)])/ df_motor.shape[0]\n",
    "print(\"%.2f\" % b)\n",
    "\n",
    "c = len(df_motor[df_motor['iRent_11'] > 100])/ df_motor.shape[0]\n",
    "print(\"%.2f\" % c)"
   ]
  },
  {
   "cell_type": "code",
   "execution_count": 29,
   "metadata": {},
   "outputs": [
    {
     "data": {
      "image/png": "[encoded data removed]",
      "text/plain": [
       "<Figure size 640x480 with 1 Axes>"
      ]
     },
     "metadata": {},
     "output_type": "display_data"
    }
   ],
   "source": [
    "\n",
    "city_chi =list(df['iRent_4'].unique())\n",
    "city_eng = ['Taipei City', 'New Taipei City', 'Kaohsiung City','Taoyuan City', 'Keelung City', 'Taichung City', 'Hsinchu County','Tainan City',\n",
    "'Hsinchu City', 'Yunlin County', 'Yilan County', 'Chiayi County', 'Chiayi City', 'Changhua County', 'Nantou County', 'Kinmen County',\n",
    "'Miaoli County', 'Hualien County', 'Lianjiang County', 'Pingtung County', 'Taitung County', 'Penghu County']\n",
    "\n",
    "df = df.replace(city_chi, city_eng)\n",
    "fig = df['iRent_4'].value_counts()[0:10].plot(kind='bar', color='#44546A').figure\n",
    "#plt.show()\n",
    "fig.savefig('city.png', bbox_inches='tight', transparent= True)\n",
    "\n",
    "#plt.show()\n",
    "#fig.savefig('city.png', transparent=True)"
   ]
  },
  {
   "cell_type": "code",
   "execution_count": 4,
   "metadata": {},
   "outputs": [
    {
     "data": {
      "text/html": [
       "<div>\n",
       "<style scoped>\n",
       "    .dataframe tbody tr th:only-of-type {\n",
       "        vertical-align: middle;\n",
       "    }\n",
       "\n",
       "    .dataframe tbody tr th {\n",
       "        vertical-align: top;\n",
       "    }\n",
       "\n",
       "    .dataframe thead th {\n",
       "        text-align: right;\n",
       "    }\n",
       "</style>\n",
       "<table border=\"1\" class=\"dataframe\">\n",
       "  <thead>\n",
       "    <tr style=\"text-align: right;\">\n",
       "      <th></th>\n",
       "      <th>iRent_8</th>\n",
       "      <th>iRent_11</th>\n",
       "      <th>iRent_2_18-20</th>\n",
       "      <th>iRent_2_21-25</th>\n",
       "      <th>iRent_2_26-30</th>\n",
       "      <th>iRent_2_31-35</th>\n",
       "      <th>iRent_2_36-40</th>\n",
       "      <th>iRent_2_41-45</th>\n",
       "      <th>iRent_2_46-50</th>\n",
       "      <th>iRent_2_51-55</th>\n",
       "      <th>...</th>\n",
       "      <th>iRent_4_桃園市</th>\n",
       "      <th>iRent_4_澎湖縣</th>\n",
       "      <th>iRent_4_花蓮縣</th>\n",
       "      <th>iRent_4_苗栗縣</th>\n",
       "      <th>iRent_4_連江縣</th>\n",
       "      <th>iRent_4_金門縣</th>\n",
       "      <th>iRent_4_雲林縣</th>\n",
       "      <th>iRent_4_高雄市</th>\n",
       "      <th>iRent_14_car</th>\n",
       "      <th>iRent_14_motor</th>\n",
       "    </tr>\n",
       "  </thead>\n",
       "  <tbody>\n",
       "    <tr>\n",
       "      <th>0</th>\n",
       "      <td>516</td>\n",
       "      <td>40.0</td>\n",
       "      <td>0</td>\n",
       "      <td>0</td>\n",
       "      <td>0</td>\n",
       "      <td>1</td>\n",
       "      <td>0</td>\n",
       "      <td>0</td>\n",
       "      <td>0</td>\n",
       "      <td>0</td>\n",
       "      <td>...</td>\n",
       "      <td>0</td>\n",
       "      <td>0</td>\n",
       "      <td>0</td>\n",
       "      <td>0</td>\n",
       "      <td>0</td>\n",
       "      <td>0</td>\n",
       "      <td>0</td>\n",
       "      <td>0</td>\n",
       "      <td>1</td>\n",
       "      <td>0</td>\n",
       "    </tr>\n",
       "    <tr>\n",
       "      <th>1</th>\n",
       "      <td>37</td>\n",
       "      <td>5.5</td>\n",
       "      <td>0</td>\n",
       "      <td>0</td>\n",
       "      <td>0</td>\n",
       "      <td>1</td>\n",
       "      <td>0</td>\n",
       "      <td>0</td>\n",
       "      <td>0</td>\n",
       "      <td>0</td>\n",
       "      <td>...</td>\n",
       "      <td>0</td>\n",
       "      <td>0</td>\n",
       "      <td>0</td>\n",
       "      <td>0</td>\n",
       "      <td>0</td>\n",
       "      <td>0</td>\n",
       "      <td>0</td>\n",
       "      <td>0</td>\n",
       "      <td>0</td>\n",
       "      <td>1</td>\n",
       "    </tr>\n",
       "    <tr>\n",
       "      <th>2</th>\n",
       "      <td>19</td>\n",
       "      <td>2.5</td>\n",
       "      <td>0</td>\n",
       "      <td>0</td>\n",
       "      <td>0</td>\n",
       "      <td>1</td>\n",
       "      <td>0</td>\n",
       "      <td>0</td>\n",
       "      <td>0</td>\n",
       "      <td>0</td>\n",
       "      <td>...</td>\n",
       "      <td>0</td>\n",
       "      <td>0</td>\n",
       "      <td>0</td>\n",
       "      <td>0</td>\n",
       "      <td>0</td>\n",
       "      <td>0</td>\n",
       "      <td>0</td>\n",
       "      <td>0</td>\n",
       "      <td>0</td>\n",
       "      <td>1</td>\n",
       "    </tr>\n",
       "    <tr>\n",
       "      <th>3</th>\n",
       "      <td>717</td>\n",
       "      <td>90.0</td>\n",
       "      <td>0</td>\n",
       "      <td>0</td>\n",
       "      <td>0</td>\n",
       "      <td>1</td>\n",
       "      <td>0</td>\n",
       "      <td>0</td>\n",
       "      <td>0</td>\n",
       "      <td>0</td>\n",
       "      <td>...</td>\n",
       "      <td>0</td>\n",
       "      <td>0</td>\n",
       "      <td>0</td>\n",
       "      <td>0</td>\n",
       "      <td>0</td>\n",
       "      <td>0</td>\n",
       "      <td>0</td>\n",
       "      <td>0</td>\n",
       "      <td>1</td>\n",
       "      <td>0</td>\n",
       "    </tr>\n",
       "    <tr>\n",
       "      <th>4</th>\n",
       "      <td>284</td>\n",
       "      <td>45.0</td>\n",
       "      <td>0</td>\n",
       "      <td>0</td>\n",
       "      <td>0</td>\n",
       "      <td>1</td>\n",
       "      <td>0</td>\n",
       "      <td>0</td>\n",
       "      <td>0</td>\n",
       "      <td>0</td>\n",
       "      <td>...</td>\n",
       "      <td>0</td>\n",
       "      <td>0</td>\n",
       "      <td>0</td>\n",
       "      <td>0</td>\n",
       "      <td>0</td>\n",
       "      <td>0</td>\n",
       "      <td>0</td>\n",
       "      <td>0</td>\n",
       "      <td>1</td>\n",
       "      <td>0</td>\n",
       "    </tr>\n",
       "  </tbody>\n",
       "</table>\n",
       "<p>5 rows × 37 columns</p>\n",
       "</div>"
      ],
      "text/plain": [
       "   iRent_8  iRent_11  iRent_2_18-20  iRent_2_21-25  iRent_2_26-30  \\\n",
       "0      516      40.0              0              0              0   \n",
       "1       37       5.5              0              0              0   \n",
       "2       19       2.5              0              0              0   \n",
       "3      717      90.0              0              0              0   \n",
       "4      284      45.0              0              0              0   \n",
       "\n",
       "   iRent_2_31-35  iRent_2_36-40  iRent_2_41-45  iRent_2_46-50  iRent_2_51-55  \\\n",
       "0              1              0              0              0              0   \n",
       "1              1              0              0              0              0   \n",
       "2              1              0              0              0              0   \n",
       "3              1              0              0              0              0   \n",
       "4              1              0              0              0              0   \n",
       "\n",
       "   ...  iRent_4_桃園市  iRent_4_澎湖縣  iRent_4_花蓮縣  iRent_4_苗栗縣  iRent_4_連江縣  \\\n",
       "0  ...            0            0            0            0            0   \n",
       "1  ...            0            0            0            0            0   \n",
       "2  ...            0            0            0            0            0   \n",
       "3  ...            0            0            0            0            0   \n",
       "4  ...            0            0            0            0            0   \n",
       "\n",
       "   iRent_4_金門縣  iRent_4_雲林縣  iRent_4_高雄市  iRent_14_car  iRent_14_motor  \n",
       "0            0            0            0             1               0  \n",
       "1            0            0            0             0               1  \n",
       "2            0            0            0             0               1  \n",
       "3            0            0            0             1               0  \n",
       "4            0            0            0             1               0  \n",
       "\n",
       "[5 rows x 37 columns]"
      ]
     },
     "execution_count": 4,
     "metadata": {},
     "output_type": "execute_result"
    }
   ],
   "source": [
    "from sklearn.preprocessing import StandardScaler\n",
    "from sklearn.model_selection import train_test_split\n",
    "\n",
    "df = df[['iRent_2', 'iRent_3','iRent_4','iRent_8','iRent_11', 'iRent_14']]\n",
    "\n",
    "df = pd.get_dummies(df, columns=['iRent_2', 'iRent_3','iRent_4', 'iRent_14'])\n",
    "df.head()\n",
    "#df_con = \n",
    "#scaler = StandardScaler()\n",
    "#scaler.fit_transform(df_train)\n",
    "#con = df_tok[['iRent_8', 'iRent_11']]\n",
    "#con = scaler.fit_transform(X_con)\n",
    "#X_con = pd.DataFrame(X_con, columns=['T000918002','T000918006', 'T000918021', 'T000918025','T000847001'])"
   ]
  },
  {
   "cell_type": "code",
   "execution_count": 5,
   "metadata": {},
   "outputs": [
    {
     "data": {
      "text/plain": [
       "(403331, 2)"
      ]
     },
     "execution_count": 5,
     "metadata": {},
     "output_type": "execute_result"
    }
   ],
   "source": [
    "from sklearn.decomposition import PCA\n",
    "from sklearn.cluster import KMeans\n",
    "\n",
    "pca = PCA(2)\n",
    "df = pca.fit_transform(df)\n",
    "df.shape"
   ]
  },
  {
   "cell_type": "code",
   "execution_count": 21,
   "metadata": {},
   "outputs": [
    {
     "name": "stdout",
     "output_type": "stream",
     "text": [
      "[6 4 4 ... 4 4 4]\n"
     ]
    }
   ],
   "source": [
    "#Initialize the class object\n",
    "kmeans = KMeans(n_clusters= 10)\n",
    " \n",
    "#predict the labels of clusters.\n",
    "label = kmeans.fit_predict(df)\n",
    "\n",
    "print(label)"
   ]
  },
  {
   "cell_type": "code",
   "execution_count": null,
   "metadata": {},
   "outputs": [],
   "source": [
    "import matplotlib.pyplot as plt\n",
    " \n",
    "#filter rows of original data\n",
    "filtered_label0 = df[label == 0]\n",
    " \n",
    "#plotting the results\n",
    "plt.scatter(filtered_label0[:,0] , filtered_label0[:,1], )\n",
    "plt.show()"
   ]
  },
  {
   "cell_type": "code",
   "execution_count": null,
   "metadata": {},
   "outputs": [],
   "source": [
    "#filter rows of original data\n",
    "filtered_label2 = df[label == 2]\n",
    " \n",
    "filtered_label8 = df[label == 8]\n",
    " \n",
    "#Plotting the results\n",
    "plt.scatter(filtered_label2[:,0] , filtered_label2[:,1] , color = 'red')\n",
    "plt.scatter(filtered_label8[:,0] , filtered_label8[:,1] , color = 'black')\n",
    "plt.show()"
   ]
  },
  {
   "cell_type": "code",
   "execution_count": 25,
   "metadata": {},
   "outputs": [
    {
     "data": {
      "image/png": "[encoded data removed]",
      "text/plain": [
       "<Figure size 640x480 with 1 Axes>"
      ]
     },
     "metadata": {},
     "output_type": "display_data"
    }
   ],
   "source": [
    "#Getting unique labels\n",
    " \n",
    "u_labels = np.unique(label)\n",
    " \n",
    "#plotting the results:\n",
    " \n",
    "for i in u_labels:\n",
    "    plt.scatter(df[label == i , 0] , df[label == i , 1] , label = i)\n",
    "plt.legend()\n",
    "plt.show()"
   ]
  },
  {
   "cell_type": "code",
   "execution_count": null,
   "metadata": {},
   "outputs": [],
   "source": [
    "from sklearn.cluster import DBSCAN\n",
    "from collections import Counter\n",
    "\n",
    "clustering=DBSCAN().fit(df)\n",
    "Counter(clustering.labels_)"
   ]
  },
  {
   "cell_type": "code",
   "execution_count": 19,
   "metadata": {},
   "outputs": [],
   "source": [
    "df = pd.DataFrame(df,columns = ['t-SNE-1', 't-SNE-2'])"
   ]
  },
  {
   "cell_type": "code",
   "execution_count": 21,
   "metadata": {},
   "outputs": [
    {
     "ename": "ValueError",
     "evalue": "Image size of 660x106233 pixels is too large. It must be less than 2^16 in each direction.",
     "output_type": "error",
     "traceback": [
      "\u001b[0;31m---------------------------------------------------------------------------\u001b[0m",
      "\u001b[0;31mValueError\u001b[0m                                Traceback (most recent call last)",
      "File \u001b[0;32m~/.local/share/virtualenvs/HOTAI-xmqxT9Ly/lib/python3.10/site-packages/IPython/core/formatters.py:339\u001b[0m, in \u001b[0;36mBaseFormatter.__call__\u001b[0;34m(self, obj)\u001b[0m\n\u001b[1;32m    337\u001b[0m     \u001b[39mpass\u001b[39;00m\n\u001b[1;32m    338\u001b[0m \u001b[39melse\u001b[39;00m:\n\u001b[0;32m--> 339\u001b[0m     \u001b[39mreturn\u001b[39;00m printer(obj)\n\u001b[1;32m    340\u001b[0m \u001b[39m# Finally look for special method names\u001b[39;00m\n\u001b[1;32m    341\u001b[0m method \u001b[39m=\u001b[39m get_real_method(obj, \u001b[39mself\u001b[39m\u001b[39m.\u001b[39mprint_method)\n",
      "File \u001b[0;32m~/.local/share/virtualenvs/HOTAI-xmqxT9Ly/lib/python3.10/site-packages/IPython/core/pylabtools.py:151\u001b[0m, in \u001b[0;36mprint_figure\u001b[0;34m(fig, fmt, bbox_inches, base64, **kwargs)\u001b[0m\n\u001b[1;32m    148\u001b[0m     \u001b[39mfrom\u001b[39;00m \u001b[39mmatplotlib\u001b[39;00m\u001b[39m.\u001b[39;00m\u001b[39mbackend_bases\u001b[39;00m \u001b[39mimport\u001b[39;00m FigureCanvasBase\n\u001b[1;32m    149\u001b[0m     FigureCanvasBase(fig)\n\u001b[0;32m--> 151\u001b[0m fig\u001b[39m.\u001b[39;49mcanvas\u001b[39m.\u001b[39;49mprint_figure(bytes_io, \u001b[39m*\u001b[39;49m\u001b[39m*\u001b[39;49mkw)\n\u001b[1;32m    152\u001b[0m data \u001b[39m=\u001b[39m bytes_io\u001b[39m.\u001b[39mgetvalue()\n\u001b[1;32m    153\u001b[0m \u001b[39mif\u001b[39;00m fmt \u001b[39m==\u001b[39m \u001b[39m'\u001b[39m\u001b[39msvg\u001b[39m\u001b[39m'\u001b[39m:\n",
      "File \u001b[0;32m~/.local/share/virtualenvs/HOTAI-xmqxT9Ly/lib/python3.10/site-packages/matplotlib/backend_bases.py:2338\u001b[0m, in \u001b[0;36mFigureCanvasBase.print_figure\u001b[0;34m(self, filename, dpi, facecolor, edgecolor, orientation, format, bbox_inches, pad_inches, bbox_extra_artists, backend, **kwargs)\u001b[0m\n\u001b[1;32m   2334\u001b[0m \u001b[39mtry\u001b[39;00m:\n\u001b[1;32m   2335\u001b[0m     \u001b[39m# _get_renderer may change the figure dpi (as vector formats\u001b[39;00m\n\u001b[1;32m   2336\u001b[0m     \u001b[39m# force the figure dpi to 72), so we need to set it again here.\u001b[39;00m\n\u001b[1;32m   2337\u001b[0m     \u001b[39mwith\u001b[39;00m cbook\u001b[39m.\u001b[39m_setattr_cm(\u001b[39mself\u001b[39m\u001b[39m.\u001b[39mfigure, dpi\u001b[39m=\u001b[39mdpi):\n\u001b[0;32m-> 2338\u001b[0m         result \u001b[39m=\u001b[39m print_method(\n\u001b[1;32m   2339\u001b[0m             filename,\n\u001b[1;32m   2340\u001b[0m             facecolor\u001b[39m=\u001b[39;49mfacecolor,\n\u001b[1;32m   2341\u001b[0m             edgecolor\u001b[39m=\u001b[39;49medgecolor,\n\u001b[1;32m   2342\u001b[0m             orientation\u001b[39m=\u001b[39;49morientation,\n\u001b[1;32m   2343\u001b[0m             bbox_inches_restore\u001b[39m=\u001b[39;49m_bbox_inches_restore,\n\u001b[1;32m   2344\u001b[0m             \u001b[39m*\u001b[39;49m\u001b[39m*\u001b[39;49mkwargs)\n\u001b[1;32m   2345\u001b[0m \u001b[39mfinally\u001b[39;00m:\n\u001b[1;32m   2346\u001b[0m     \u001b[39mif\u001b[39;00m bbox_inches \u001b[39mand\u001b[39;00m restore_bbox:\n",
      "File \u001b[0;32m~/.local/share/virtualenvs/HOTAI-xmqxT9Ly/lib/python3.10/site-packages/matplotlib/backend_bases.py:2204\u001b[0m, in \u001b[0;36mFigureCanvasBase._switch_canvas_and_return_print_method.<locals>.<lambda>\u001b[0;34m(*args, **kwargs)\u001b[0m\n\u001b[1;32m   2200\u001b[0m     optional_kws \u001b[39m=\u001b[39m {  \u001b[39m# Passed by print_figure for other renderers.\u001b[39;00m\n\u001b[1;32m   2201\u001b[0m         \u001b[39m\"\u001b[39m\u001b[39mdpi\u001b[39m\u001b[39m\"\u001b[39m, \u001b[39m\"\u001b[39m\u001b[39mfacecolor\u001b[39m\u001b[39m\"\u001b[39m, \u001b[39m\"\u001b[39m\u001b[39medgecolor\u001b[39m\u001b[39m\"\u001b[39m, \u001b[39m\"\u001b[39m\u001b[39morientation\u001b[39m\u001b[39m\"\u001b[39m,\n\u001b[1;32m   2202\u001b[0m         \u001b[39m\"\u001b[39m\u001b[39mbbox_inches_restore\u001b[39m\u001b[39m\"\u001b[39m}\n\u001b[1;32m   2203\u001b[0m     skip \u001b[39m=\u001b[39m optional_kws \u001b[39m-\u001b[39m {\u001b[39m*\u001b[39minspect\u001b[39m.\u001b[39msignature(meth)\u001b[39m.\u001b[39mparameters}\n\u001b[0;32m-> 2204\u001b[0m     print_method \u001b[39m=\u001b[39m functools\u001b[39m.\u001b[39mwraps(meth)(\u001b[39mlambda\u001b[39;00m \u001b[39m*\u001b[39margs, \u001b[39m*\u001b[39m\u001b[39m*\u001b[39mkwargs: meth(\n\u001b[1;32m   2205\u001b[0m         \u001b[39m*\u001b[39;49margs, \u001b[39m*\u001b[39;49m\u001b[39m*\u001b[39;49m{k: v \u001b[39mfor\u001b[39;49;00m k, v \u001b[39min\u001b[39;49;00m kwargs\u001b[39m.\u001b[39;49mitems() \u001b[39mif\u001b[39;49;00m k \u001b[39mnot\u001b[39;49;00m \u001b[39min\u001b[39;49;00m skip}))\n\u001b[1;32m   2206\u001b[0m \u001b[39melse\u001b[39;00m:  \u001b[39m# Let third-parties do as they see fit.\u001b[39;00m\n\u001b[1;32m   2207\u001b[0m     print_method \u001b[39m=\u001b[39m meth\n",
      "File \u001b[0;32m~/.local/share/virtualenvs/HOTAI-xmqxT9Ly/lib/python3.10/site-packages/matplotlib/_api/deprecation.py:410\u001b[0m, in \u001b[0;36mdelete_parameter.<locals>.wrapper\u001b[0;34m(*inner_args, **inner_kwargs)\u001b[0m\n\u001b[1;32m    400\u001b[0m     deprecation_addendum \u001b[39m=\u001b[39m (\n\u001b[1;32m    401\u001b[0m         \u001b[39mf\u001b[39m\u001b[39m\"\u001b[39m\u001b[39mIf any parameter follows \u001b[39m\u001b[39m{\u001b[39;00mname\u001b[39m!r}\u001b[39;00m\u001b[39m, they should be passed as \u001b[39m\u001b[39m\"\u001b[39m\n\u001b[1;32m    402\u001b[0m         \u001b[39mf\u001b[39m\u001b[39m\"\u001b[39m\u001b[39mkeyword, not positionally.\u001b[39m\u001b[39m\"\u001b[39m)\n\u001b[1;32m    403\u001b[0m     warn_deprecated(\n\u001b[1;32m    404\u001b[0m         since,\n\u001b[1;32m    405\u001b[0m         name\u001b[39m=\u001b[39m\u001b[39mrepr\u001b[39m(name),\n\u001b[0;32m   (...)\u001b[0m\n\u001b[1;32m    408\u001b[0m                  \u001b[39melse\u001b[39;00m deprecation_addendum,\n\u001b[1;32m    409\u001b[0m         \u001b[39m*\u001b[39m\u001b[39m*\u001b[39mkwargs)\n\u001b[0;32m--> 410\u001b[0m \u001b[39mreturn\u001b[39;00m func(\u001b[39m*\u001b[39;49minner_args, \u001b[39m*\u001b[39;49m\u001b[39m*\u001b[39;49minner_kwargs)\n",
      "File \u001b[0;32m~/.local/share/virtualenvs/HOTAI-xmqxT9Ly/lib/python3.10/site-packages/matplotlib/backends/backend_agg.py:520\u001b[0m, in \u001b[0;36mFigureCanvasAgg.print_png\u001b[0;34m(self, filename_or_obj, metadata, pil_kwargs, *args)\u001b[0m\n\u001b[1;32m    471\u001b[0m \u001b[39m@_api\u001b[39m\u001b[39m.\u001b[39mdelete_parameter(\u001b[39m\"\u001b[39m\u001b[39m3.5\u001b[39m\u001b[39m\"\u001b[39m, \u001b[39m\"\u001b[39m\u001b[39margs\u001b[39m\u001b[39m\"\u001b[39m)\n\u001b[1;32m    472\u001b[0m \u001b[39mdef\u001b[39;00m \u001b[39mprint_png\u001b[39m(\u001b[39mself\u001b[39m, filename_or_obj, \u001b[39m*\u001b[39margs,\n\u001b[1;32m    473\u001b[0m               metadata\u001b[39m=\u001b[39m\u001b[39mNone\u001b[39;00m, pil_kwargs\u001b[39m=\u001b[39m\u001b[39mNone\u001b[39;00m):\n\u001b[1;32m    474\u001b[0m     \u001b[39m\"\"\"\u001b[39;00m\n\u001b[1;32m    475\u001b[0m \u001b[39m    Write the figure to a PNG file.\u001b[39;00m\n\u001b[1;32m    476\u001b[0m \n\u001b[0;32m   (...)\u001b[0m\n\u001b[1;32m    518\u001b[0m \u001b[39m        *metadata*, including the default 'Software' key.\u001b[39;00m\n\u001b[1;32m    519\u001b[0m \u001b[39m    \"\"\"\u001b[39;00m\n\u001b[0;32m--> 520\u001b[0m     \u001b[39mself\u001b[39;49m\u001b[39m.\u001b[39;49m_print_pil(filename_or_obj, \u001b[39m\"\u001b[39;49m\u001b[39mpng\u001b[39;49m\u001b[39m\"\u001b[39;49m, pil_kwargs, metadata)\n",
      "File \u001b[0;32m~/.local/share/virtualenvs/HOTAI-xmqxT9Ly/lib/python3.10/site-packages/matplotlib/backends/backend_agg.py:466\u001b[0m, in \u001b[0;36mFigureCanvasAgg._print_pil\u001b[0;34m(self, filename_or_obj, fmt, pil_kwargs, metadata)\u001b[0m\n\u001b[1;32m    461\u001b[0m \u001b[39mdef\u001b[39;00m \u001b[39m_print_pil\u001b[39m(\u001b[39mself\u001b[39m, filename_or_obj, fmt, pil_kwargs, metadata\u001b[39m=\u001b[39m\u001b[39mNone\u001b[39;00m):\n\u001b[1;32m    462\u001b[0m     \u001b[39m\"\"\"\u001b[39;00m\n\u001b[1;32m    463\u001b[0m \u001b[39m    Draw the canvas, then save it using `.image.imsave` (to which\u001b[39;00m\n\u001b[1;32m    464\u001b[0m \u001b[39m    *pil_kwargs* and *metadata* are forwarded).\u001b[39;00m\n\u001b[1;32m    465\u001b[0m \u001b[39m    \"\"\"\u001b[39;00m\n\u001b[0;32m--> 466\u001b[0m     FigureCanvasAgg\u001b[39m.\u001b[39;49mdraw(\u001b[39mself\u001b[39;49m)\n\u001b[1;32m    467\u001b[0m     mpl\u001b[39m.\u001b[39mimage\u001b[39m.\u001b[39mimsave(\n\u001b[1;32m    468\u001b[0m         filename_or_obj, \u001b[39mself\u001b[39m\u001b[39m.\u001b[39mbuffer_rgba(), \u001b[39mformat\u001b[39m\u001b[39m=\u001b[39mfmt, origin\u001b[39m=\u001b[39m\u001b[39m\"\u001b[39m\u001b[39mupper\u001b[39m\u001b[39m\"\u001b[39m,\n\u001b[1;32m    469\u001b[0m         dpi\u001b[39m=\u001b[39m\u001b[39mself\u001b[39m\u001b[39m.\u001b[39mfigure\u001b[39m.\u001b[39mdpi, metadata\u001b[39m=\u001b[39mmetadata, pil_kwargs\u001b[39m=\u001b[39mpil_kwargs)\n",
      "File \u001b[0;32m~/.local/share/virtualenvs/HOTAI-xmqxT9Ly/lib/python3.10/site-packages/matplotlib/backends/backend_agg.py:402\u001b[0m, in \u001b[0;36mFigureCanvasAgg.draw\u001b[0;34m(self)\u001b[0m\n\u001b[1;32m    400\u001b[0m \u001b[39mdef\u001b[39;00m \u001b[39mdraw\u001b[39m(\u001b[39mself\u001b[39m):\n\u001b[1;32m    401\u001b[0m     \u001b[39m# docstring inherited\u001b[39;00m\n\u001b[0;32m--> 402\u001b[0m     \u001b[39mself\u001b[39m\u001b[39m.\u001b[39mrenderer \u001b[39m=\u001b[39m \u001b[39mself\u001b[39;49m\u001b[39m.\u001b[39;49mget_renderer()\n\u001b[1;32m    403\u001b[0m     \u001b[39mself\u001b[39m\u001b[39m.\u001b[39mrenderer\u001b[39m.\u001b[39mclear()\n\u001b[1;32m    404\u001b[0m     \u001b[39m# Acquire a lock on the shared font cache.\u001b[39;00m\n",
      "File \u001b[0;32m~/.local/share/virtualenvs/HOTAI-xmqxT9Ly/lib/python3.10/site-packages/matplotlib/_api/deprecation.py:384\u001b[0m, in \u001b[0;36mdelete_parameter.<locals>.wrapper\u001b[0;34m(*inner_args, **inner_kwargs)\u001b[0m\n\u001b[1;32m    379\u001b[0m \u001b[39m@functools\u001b[39m\u001b[39m.\u001b[39mwraps(func)\n\u001b[1;32m    380\u001b[0m \u001b[39mdef\u001b[39;00m \u001b[39mwrapper\u001b[39m(\u001b[39m*\u001b[39minner_args, \u001b[39m*\u001b[39m\u001b[39m*\u001b[39minner_kwargs):\n\u001b[1;32m    381\u001b[0m     \u001b[39mif\u001b[39;00m \u001b[39mlen\u001b[39m(inner_args) \u001b[39m<\u001b[39m\u001b[39m=\u001b[39m name_idx \u001b[39mand\u001b[39;00m name \u001b[39mnot\u001b[39;00m \u001b[39min\u001b[39;00m inner_kwargs:\n\u001b[1;32m    382\u001b[0m         \u001b[39m# Early return in the simple, non-deprecated case (much faster than\u001b[39;00m\n\u001b[1;32m    383\u001b[0m         \u001b[39m# calling bind()).\u001b[39;00m\n\u001b[0;32m--> 384\u001b[0m         \u001b[39mreturn\u001b[39;00m func(\u001b[39m*\u001b[39;49minner_args, \u001b[39m*\u001b[39;49m\u001b[39m*\u001b[39;49minner_kwargs)\n\u001b[1;32m    385\u001b[0m     arguments \u001b[39m=\u001b[39m signature\u001b[39m.\u001b[39mbind(\u001b[39m*\u001b[39minner_args, \u001b[39m*\u001b[39m\u001b[39m*\u001b[39minner_kwargs)\u001b[39m.\u001b[39marguments\n\u001b[1;32m    386\u001b[0m     \u001b[39mif\u001b[39;00m is_varargs \u001b[39mand\u001b[39;00m arguments\u001b[39m.\u001b[39mget(name):\n",
      "File \u001b[0;32m~/.local/share/virtualenvs/HOTAI-xmqxT9Ly/lib/python3.10/site-packages/matplotlib/backends/backend_agg.py:419\u001b[0m, in \u001b[0;36mFigureCanvasAgg.get_renderer\u001b[0;34m(self, cleared)\u001b[0m\n\u001b[1;32m    417\u001b[0m reuse_renderer \u001b[39m=\u001b[39m (\u001b[39mself\u001b[39m\u001b[39m.\u001b[39m_lastKey \u001b[39m==\u001b[39m key)\n\u001b[1;32m    418\u001b[0m \u001b[39mif\u001b[39;00m \u001b[39mnot\u001b[39;00m reuse_renderer:\n\u001b[0;32m--> 419\u001b[0m     \u001b[39mself\u001b[39m\u001b[39m.\u001b[39mrenderer \u001b[39m=\u001b[39m RendererAgg(w, h, \u001b[39mself\u001b[39;49m\u001b[39m.\u001b[39;49mfigure\u001b[39m.\u001b[39;49mdpi)\n\u001b[1;32m    420\u001b[0m     \u001b[39mself\u001b[39m\u001b[39m.\u001b[39m_lastKey \u001b[39m=\u001b[39m key\n\u001b[1;32m    421\u001b[0m \u001b[39melif\u001b[39;00m cleared:\n",
      "File \u001b[0;32m~/.local/share/virtualenvs/HOTAI-xmqxT9Ly/lib/python3.10/site-packages/matplotlib/backends/backend_agg.py:87\u001b[0m, in \u001b[0;36mRendererAgg.__init__\u001b[0;34m(self, width, height, dpi)\u001b[0m\n\u001b[1;32m     85\u001b[0m \u001b[39mself\u001b[39m\u001b[39m.\u001b[39mwidth \u001b[39m=\u001b[39m width\n\u001b[1;32m     86\u001b[0m \u001b[39mself\u001b[39m\u001b[39m.\u001b[39mheight \u001b[39m=\u001b[39m height\n\u001b[0;32m---> 87\u001b[0m \u001b[39mself\u001b[39m\u001b[39m.\u001b[39m_renderer \u001b[39m=\u001b[39m _RendererAgg(\u001b[39mint\u001b[39;49m(width), \u001b[39mint\u001b[39;49m(height), dpi)\n\u001b[1;32m     88\u001b[0m \u001b[39mself\u001b[39m\u001b[39m.\u001b[39m_filter_renderers \u001b[39m=\u001b[39m []\n\u001b[1;32m     90\u001b[0m \u001b[39mself\u001b[39m\u001b[39m.\u001b[39m_update_methods()\n",
      "\u001b[0;31mValueError\u001b[0m: Image size of 660x106233 pixels is too large. It must be less than 2^16 in each direction."
     ]
    },
    {
     "data": {
      "text/plain": [
       "<Figure size 640x480 with 1 Axes>"
      ]
     },
     "metadata": {},
     "output_type": "display_data"
    }
   ],
   "source": [
    "p = sns.scatterplot(data=df, x=\"t-SNE-1\", y=\"t-SNE-2\", hue=clustering.labels_, legend=\"full\", palette=\"deep\")\n",
    "sns.move_legend(p, \"upper right\", bbox_to_anchor=(1.17, 1.2), title='Clusters')\n",
    "plt.show()"
   ]
  },
  {
   "cell_type": "code",
   "execution_count": 97,
   "metadata": {},
   "outputs": [],
   "source": [
    "#from matplotlib.font_manager import findfont, FontProperties  \n",
    "\n",
    "\n",
    "#findfont(FontProperties(family=FontProperties().get_family()))\n",
    "#myfont = '/Users/linchiatung/.local/share/virtualenvs/HOTAI-xmqxT9Ly/lib/python3.10/site-packages/matplotlib/mpl-data/fonts/ttf/DejaVuSans.ttf'\n",
    "#myfont=FontProperties(fname=r'/Users/linchiatung/.local/share/virtualenvs/HOTAI-xmqxT9Ly/lib/python3.10/site-packages/matplotlib/mpl-data/fonts/ttf/DejaVuSans.ttf',size=14)\n",
    "#sns.set(font=myfont.get_family())\n",
    "#sns.set_style(\"whitegrid\",{\"font.sans-serif\":['Microsoft JhengHei']})\n",
    "\n",
    "#sns.countplot(data=df, x=\"iRent_4\", hue=\"iRent_3\")"
   ]
  },
  {
   "cell_type": "code",
   "execution_count": 102,
   "metadata": {},
   "outputs": [],
   "source": [
    "# 短中長程旅程分析\n",
    "\n",
    "#fig = sns.histplot(df, x= 'iRent_11', kde= True)\n",
    "#fig.set_xlim(0,300)\n",
    "#fig.set_ylim(0,20000)\n"
   ]
  },
  {
   "cell_type": "code",
   "execution_count": 73,
   "metadata": {},
   "outputs": [
    {
     "name": "stdout",
     "output_type": "stream",
     "text": [
      "/Users/linchiatung/.local/share/virtualenvs/HOTAI-xmqxT9Ly/lib/python3.10/site-packages/matplotlib/mpl-data/matplotlibrc\n"
     ]
    }
   ],
   "source": [
    "#import matplotlib\n",
    "#print(matplotlib.matplotlib_fname())"
   ]
  },
  {
   "cell_type": "code",
   "execution_count": 11,
   "metadata": {},
   "outputs": [
    {
     "data": {
      "text/html": [
       "<div>\n",
       "<style scoped>\n",
       "    .dataframe tbody tr th:only-of-type {\n",
       "        vertical-align: middle;\n",
       "    }\n",
       "\n",
       "    .dataframe tbody tr th {\n",
       "        vertical-align: top;\n",
       "    }\n",
       "\n",
       "    .dataframe thead th {\n",
       "        text-align: right;\n",
       "    }\n",
       "</style>\n",
       "<table border=\"1\" class=\"dataframe\">\n",
       "  <thead>\n",
       "    <tr style=\"text-align: right;\">\n",
       "      <th></th>\n",
       "      <th>iRent_7</th>\n",
       "      <th>iRent_9</th>\n",
       "      <th>iRent_10</th>\n",
       "    </tr>\n",
       "  </thead>\n",
       "  <tbody>\n",
       "    <tr>\n",
       "      <th>0</th>\n",
       "      <td>2021/04/01 18:06:14</td>\n",
       "      <td>2021/04/01 18:10:20</td>\n",
       "      <td>2021/04/01 22:12:29</td>\n",
       "    </tr>\n",
       "    <tr>\n",
       "      <th>1</th>\n",
       "      <td>2021/04/11 11:40:08</td>\n",
       "      <td>2021/04/11 11:42:09</td>\n",
       "      <td>2021/04/11 12:06:09</td>\n",
       "    </tr>\n",
       "    <tr>\n",
       "      <th>2</th>\n",
       "      <td>2021/04/24 12:05:24</td>\n",
       "      <td>2021/04/24 12:07:29</td>\n",
       "      <td>2021/04/24 12:19:04</td>\n",
       "    </tr>\n",
       "    <tr>\n",
       "      <th>3</th>\n",
       "      <td>2021/04/13 13:36:36</td>\n",
       "      <td>2021/04/13 13:40:21</td>\n",
       "      <td>2021/04/13 16:41:53</td>\n",
       "    </tr>\n",
       "    <tr>\n",
       "      <th>4</th>\n",
       "      <td>2021/04/06 19:30:49</td>\n",
       "      <td>2021/04/06 19:42:04</td>\n",
       "      <td>2021/04/06 20:46:05</td>\n",
       "    </tr>\n",
       "    <tr>\n",
       "      <th>...</th>\n",
       "      <td>...</td>\n",
       "      <td>...</td>\n",
       "      <td>...</td>\n",
       "    </tr>\n",
       "    <tr>\n",
       "      <th>403326</th>\n",
       "      <td>2021/04/19 13:07:50</td>\n",
       "      <td>2021/04/19 13:15:37</td>\n",
       "      <td>2021/04/19 13:29:52</td>\n",
       "    </tr>\n",
       "    <tr>\n",
       "      <th>403327</th>\n",
       "      <td>2021/04/26 21:34:31</td>\n",
       "      <td>2021/04/26 21:48:01</td>\n",
       "      <td>2021/04/26 22:00:31</td>\n",
       "    </tr>\n",
       "    <tr>\n",
       "      <th>403328</th>\n",
       "      <td>2021/04/27 12:32:00</td>\n",
       "      <td>2021/04/27 12:36:14</td>\n",
       "      <td>2021/04/27 12:57:35</td>\n",
       "    </tr>\n",
       "    <tr>\n",
       "      <th>403329</th>\n",
       "      <td>2021/04/29 19:32:35</td>\n",
       "      <td>2021/04/29 19:36:33</td>\n",
       "      <td>2021/04/29 19:51:22</td>\n",
       "    </tr>\n",
       "    <tr>\n",
       "      <th>403330</th>\n",
       "      <td>2021/04/30 07:45:28</td>\n",
       "      <td>2021/04/30 08:13:23</td>\n",
       "      <td>2021/04/30 08:29:31</td>\n",
       "    </tr>\n",
       "  </tbody>\n",
       "</table>\n",
       "<p>403331 rows × 3 columns</p>\n",
       "</div>"
      ],
      "text/plain": [
       "                    iRent_7              iRent_9             iRent_10\n",
       "0       2021/04/01 18:06:14  2021/04/01 18:10:20  2021/04/01 22:12:29\n",
       "1       2021/04/11 11:40:08  2021/04/11 11:42:09  2021/04/11 12:06:09\n",
       "2       2021/04/24 12:05:24  2021/04/24 12:07:29  2021/04/24 12:19:04\n",
       "3       2021/04/13 13:36:36  2021/04/13 13:40:21  2021/04/13 16:41:53\n",
       "4       2021/04/06 19:30:49  2021/04/06 19:42:04  2021/04/06 20:46:05\n",
       "...                     ...                  ...                  ...\n",
       "403326  2021/04/19 13:07:50  2021/04/19 13:15:37  2021/04/19 13:29:52\n",
       "403327  2021/04/26 21:34:31  2021/04/26 21:48:01  2021/04/26 22:00:31\n",
       "403328  2021/04/27 12:32:00  2021/04/27 12:36:14  2021/04/27 12:57:35\n",
       "403329  2021/04/29 19:32:35  2021/04/29 19:36:33  2021/04/29 19:51:22\n",
       "403330  2021/04/30 07:45:28  2021/04/30 08:13:23  2021/04/30 08:29:31\n",
       "\n",
       "[403331 rows x 3 columns]"
      ]
     },
     "execution_count": 11,
     "metadata": {},
     "output_type": "execute_result"
    }
   ],
   "source": [
    "# 尖峰時間用車比較\n",
    "df[['iRent_7','iRent_9', 'iRent_10']]"
   ]
  },
  {
   "cell_type": "code",
   "execution_count": 34,
   "metadata": {},
   "outputs": [
    {
     "data": {
      "text/html": [
       "<div>\n",
       "<style scoped>\n",
       "    .dataframe tbody tr th:only-of-type {\n",
       "        vertical-align: middle;\n",
       "    }\n",
       "\n",
       "    .dataframe tbody tr th {\n",
       "        vertical-align: top;\n",
       "    }\n",
       "\n",
       "    .dataframe thead th {\n",
       "        text-align: right;\n",
       "    }\n",
       "</style>\n",
       "<table border=\"1\" class=\"dataframe\">\n",
       "  <thead>\n",
       "    <tr style=\"text-align: right;\">\n",
       "      <th></th>\n",
       "      <th>iRent_1</th>\n",
       "      <th>iRent_2</th>\n",
       "      <th>iRent_3</th>\n",
       "      <th>iRent_4</th>\n",
       "      <th>iRent_5</th>\n",
       "      <th>iRent_7</th>\n",
       "      <th>iRent_8</th>\n",
       "      <th>iRent_9</th>\n",
       "      <th>iRent_10</th>\n",
       "      <th>iRent_11</th>\n",
       "      <th>iRent_13</th>\n",
       "      <th>iRent_14</th>\n",
       "      <th>Travel_time</th>\n",
       "    </tr>\n",
       "  </thead>\n",
       "  <tbody>\n",
       "    <tr>\n",
       "      <th>0</th>\n",
       "      <td>A10002139</td>\n",
       "      <td>31-35</td>\n",
       "      <td>M</td>\n",
       "      <td>台北市</td>\n",
       "      <td>文山區</td>\n",
       "      <td>2021-04-01 18:06:14</td>\n",
       "      <td>516</td>\n",
       "      <td>2021-04-01 18:10:20</td>\n",
       "      <td>2021-04-01 22:12:29</td>\n",
       "      <td>40.0</td>\n",
       "      <td>TOYOTA/PRIUSc</td>\n",
       "      <td>car</td>\n",
       "      <td>242.150000</td>\n",
       "    </tr>\n",
       "    <tr>\n",
       "      <th>1</th>\n",
       "      <td>A10002478</td>\n",
       "      <td>31-35</td>\n",
       "      <td>M</td>\n",
       "      <td>台北市</td>\n",
       "      <td>中正區</td>\n",
       "      <td>2021-04-11 11:40:08</td>\n",
       "      <td>37</td>\n",
       "      <td>2021-04-11 11:42:09</td>\n",
       "      <td>2021-04-11 12:06:09</td>\n",
       "      <td>5.5</td>\n",
       "      <td>KYMCO/MANY-110</td>\n",
       "      <td>motor</td>\n",
       "      <td>24.000000</td>\n",
       "    </tr>\n",
       "    <tr>\n",
       "      <th>2</th>\n",
       "      <td>A10002478</td>\n",
       "      <td>31-35</td>\n",
       "      <td>M</td>\n",
       "      <td>台北市</td>\n",
       "      <td>中正區</td>\n",
       "      <td>2021-04-24 12:05:24</td>\n",
       "      <td>19</td>\n",
       "      <td>2021-04-24 12:07:29</td>\n",
       "      <td>2021-04-24 12:19:04</td>\n",
       "      <td>2.5</td>\n",
       "      <td>KYMCO/MANY-110</td>\n",
       "      <td>motor</td>\n",
       "      <td>11.583333</td>\n",
       "    </tr>\n",
       "    <tr>\n",
       "      <th>3</th>\n",
       "      <td>A10002651</td>\n",
       "      <td>31-35</td>\n",
       "      <td>M</td>\n",
       "      <td>新北市</td>\n",
       "      <td>永和區</td>\n",
       "      <td>2021-04-13 13:36:36</td>\n",
       "      <td>717</td>\n",
       "      <td>2021-04-13 13:40:21</td>\n",
       "      <td>2021-04-13 16:41:53</td>\n",
       "      <td>90.0</td>\n",
       "      <td>TOYOTA/YARIS</td>\n",
       "      <td>car</td>\n",
       "      <td>181.533333</td>\n",
       "    </tr>\n",
       "    <tr>\n",
       "      <th>4</th>\n",
       "      <td>A10002984</td>\n",
       "      <td>31-35</td>\n",
       "      <td>M</td>\n",
       "      <td>台北市</td>\n",
       "      <td>文山區</td>\n",
       "      <td>2021-04-06 19:30:49</td>\n",
       "      <td>284</td>\n",
       "      <td>2021-04-06 19:42:04</td>\n",
       "      <td>2021-04-06 20:46:05</td>\n",
       "      <td>45.0</td>\n",
       "      <td>TOYOTA/PRIUSc</td>\n",
       "      <td>car</td>\n",
       "      <td>64.016667</td>\n",
       "    </tr>\n",
       "  </tbody>\n",
       "</table>\n",
       "</div>"
      ],
      "text/plain": [
       "     iRent_1 iRent_2 iRent_3 iRent_4 iRent_5             iRent_7  iRent_8  \\\n",
       "0  A10002139   31-35       M     台北市     文山區 2021-04-01 18:06:14      516   \n",
       "1  A10002478   31-35       M     台北市     中正區 2021-04-11 11:40:08       37   \n",
       "2  A10002478   31-35       M     台北市     中正區 2021-04-24 12:05:24       19   \n",
       "3  A10002651   31-35       M     新北市     永和區 2021-04-13 13:36:36      717   \n",
       "4  A10002984   31-35       M     台北市     文山區 2021-04-06 19:30:49      284   \n",
       "\n",
       "              iRent_9            iRent_10  iRent_11        iRent_13 iRent_14  \\\n",
       "0 2021-04-01 18:10:20 2021-04-01 22:12:29      40.0   TOYOTA/PRIUSc      car   \n",
       "1 2021-04-11 11:42:09 2021-04-11 12:06:09       5.5  KYMCO/MANY-110    motor   \n",
       "2 2021-04-24 12:07:29 2021-04-24 12:19:04       2.5  KYMCO/MANY-110    motor   \n",
       "3 2021-04-13 13:40:21 2021-04-13 16:41:53      90.0    TOYOTA/YARIS      car   \n",
       "4 2021-04-06 19:42:04 2021-04-06 20:46:05      45.0   TOYOTA/PRIUSc      car   \n",
       "\n",
       "   Travel_time  \n",
       "0   242.150000  \n",
       "1    24.000000  \n",
       "2    11.583333  \n",
       "3   181.533333  \n",
       "4    64.016667  "
      ]
     },
     "execution_count": 34,
     "metadata": {},
     "output_type": "execute_result"
    }
   ],
   "source": [
    "df[\"iRent_7\"] = pd.to_datetime(df[\"iRent_7\"])\n",
    "df[\"iRent_9\"] = pd.to_datetime(df[\"iRent_9\"])\n",
    "df[\"iRent_10\"] = pd.to_datetime(df[\"iRent_10\"])\n",
    "df['Travel_time'] = (df[\"iRent_10\"] - df[\"iRent_9\"])/ np.timedelta64(1, 'm')\n",
    "df.head()"
   ]
  },
  {
   "cell_type": "code",
   "execution_count": 39,
   "metadata": {},
   "outputs": [
    {
     "data": {
      "text/plain": [
       "(0.0, 30000.0)"
      ]
     },
     "execution_count": 39,
     "metadata": {},
     "output_type": "execute_result"
    },
    {
     "data": {
      "image/png": "[encoded data removed]",
      "text/plain": [
       "<Figure size 640x480 with 1 Axes>"
      ]
     },
     "metadata": {},
     "output_type": "display_data"
    }
   ],
   "source": [
    "fig = sns.histplot(df, x= 'Travel_time')\n",
    "fig.set_xlim(0,500)\n",
    "fig.set_ylim(0,30000)"
   ]
  }
 ],
 "metadata": {
  "kernelspec": {
   "display_name": "Python 3.10.6 ('HOTAI-xmqxT9Ly')",
   "language": "python",
   "name": "python3"
  },
  "language_info": {
   "codemirror_mode": {
    "name": "ipython",
    "version": 3
   },
   "file_extension": ".py",
   "mimetype": "text/x-python",
   "name": "python",
   "nbconvert_exporter": "python",
   "pygments_lexer": "ipython3",
   "version": "3.10.8"
  },
  "orig_nbformat": 4,
  "vscode": {
   "interpreter": {
    "hash": "58c4ff3bf00527d3dc43688314088c98fbbe051f90418fc52f126ce1e392d7f7"
   }
  }
 },
 "nbformat": 4,
 "nbformat_minor": 2
}
