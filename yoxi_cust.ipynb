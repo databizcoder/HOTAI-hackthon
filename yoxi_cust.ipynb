{
 "cells": [
  {
   "cell_type": "code",
   "execution_count": 3,
   "metadata": {},
   "outputs": [],
   "source": [
    "import pandas as pd\n",
    "import matplotlib.pyplot as plt"
   ]
  },
  {
   "cell_type": "code",
   "execution_count": 4,
   "metadata": {},
   "outputs": [
    {
     "name": "stdout",
     "output_type": "stream",
     "text": [
      "(316278, 16)\n"
     ]
    },
    {
     "data": {
      "text/html": [
       "<div>\n",
       "<style scoped>\n",
       "    .dataframe tbody tr th:only-of-type {\n",
       "        vertical-align: middle;\n",
       "    }\n",
       "\n",
       "    .dataframe tbody tr th {\n",
       "        vertical-align: top;\n",
       "    }\n",
       "\n",
       "    .dataframe thead th {\n",
       "        text-align: right;\n",
       "    }\n",
       "</style>\n",
       "<table border=\"1\" class=\"dataframe\">\n",
       "  <thead>\n",
       "    <tr style=\"text-align: right;\">\n",
       "      <th></th>\n",
       "      <th>yoxi_0</th>\n",
       "      <th>yoxi_1</th>\n",
       "      <th>yoxi_2</th>\n",
       "      <th>yoxi_3</th>\n",
       "      <th>yoxi_4</th>\n",
       "      <th>yoxi_5</th>\n",
       "      <th>yoxi_6</th>\n",
       "      <th>yoxi_7</th>\n",
       "      <th>yoxi_8</th>\n",
       "      <th>yoxi_9</th>\n",
       "      <th>yoxi_10</th>\n",
       "      <th>yoxi_11</th>\n",
       "      <th>yoxi_12</th>\n",
       "      <th>yoxi_13</th>\n",
       "      <th>yoxi_14</th>\n",
       "      <th>yoxi_15</th>\n",
       "    </tr>\n",
       "  </thead>\n",
       "  <tbody>\n",
       "    <tr>\n",
       "      <th>0</th>\n",
       "      <td>60776</td>\n",
       "      <td>34</td>\n",
       "      <td>13204</td>\n",
       "      <td>0</td>\n",
       "      <td>0</td>\n",
       "      <td>POINT (121.5555267 25.0532422)</td>\n",
       "      <td>POINT (121.5679253 25.0412553)</td>\n",
       "      <td>0</td>\n",
       "      <td>0</td>\n",
       "      <td>0</td>\n",
       "      <td>1</td>\n",
       "      <td>2021-02-17 10:45:39.000</td>\n",
       "      <td>2021-02-17 10:49:04.243</td>\n",
       "      <td>0</td>\n",
       "      <td>[]</td>\n",
       "      <td>0</td>\n",
       "    </tr>\n",
       "    <tr>\n",
       "      <th>1</th>\n",
       "      <td>60779</td>\n",
       "      <td>34</td>\n",
       "      <td>13204</td>\n",
       "      <td>0</td>\n",
       "      <td>0</td>\n",
       "      <td>POINT (121.5555267 25.0532422)</td>\n",
       "      <td>POINT (121.567925 25.041262)</td>\n",
       "      <td>0</td>\n",
       "      <td>0</td>\n",
       "      <td>0</td>\n",
       "      <td>0</td>\n",
       "      <td>2021-02-17 10:49:13.000</td>\n",
       "      <td>2021-02-17 10:50:00.540</td>\n",
       "      <td>0</td>\n",
       "      <td>[]</td>\n",
       "      <td>0</td>\n",
       "    </tr>\n",
       "    <tr>\n",
       "      <th>2</th>\n",
       "      <td>61734</td>\n",
       "      <td>34</td>\n",
       "      <td>4380</td>\n",
       "      <td>2021-02-18 08:22:38.547</td>\n",
       "      <td>2021-02-18 08:27:41.360</td>\n",
       "      <td>POINT (121.54587060213089 25.058407217787671)</td>\n",
       "      <td>POINT (121.52883924543858 25.05149683235264)</td>\n",
       "      <td>5</td>\n",
       "      <td>2516</td>\n",
       "      <td>0</td>\n",
       "      <td>0</td>\n",
       "      <td>2021-02-18 08:19:44.000</td>\n",
       "      <td>0</td>\n",
       "      <td>0</td>\n",
       "      <td>[2]</td>\n",
       "      <td>101-150</td>\n",
       "    </tr>\n",
       "    <tr>\n",
       "      <th>3</th>\n",
       "      <td>61775</td>\n",
       "      <td>34</td>\n",
       "      <td>10676</td>\n",
       "      <td>2021-02-18 09:14:10.177</td>\n",
       "      <td>2021-02-18 09:36:49.937</td>\n",
       "      <td>POINT (121.61086957901716 25.059357414355343)</td>\n",
       "      <td>POINT (121.5128955245018 25.044088092025909)</td>\n",
       "      <td>22</td>\n",
       "      <td>13927</td>\n",
       "      <td>0</td>\n",
       "      <td>0</td>\n",
       "      <td>2021-02-18 09:07:25.000</td>\n",
       "      <td>0</td>\n",
       "      <td>0</td>\n",
       "      <td>[]</td>\n",
       "      <td>301-400</td>\n",
       "    </tr>\n",
       "    <tr>\n",
       "      <th>4</th>\n",
       "      <td>62030</td>\n",
       "      <td>34</td>\n",
       "      <td>5526</td>\n",
       "      <td>2021-02-18 12:32:07.573</td>\n",
       "      <td>2021-02-18 12:47:54.953</td>\n",
       "      <td>POINT (121.56557478010654 25.034527597856808)</td>\n",
       "      <td>POINT (121.540168 25.0671179)</td>\n",
       "      <td>15</td>\n",
       "      <td>6327</td>\n",
       "      <td>0</td>\n",
       "      <td>0</td>\n",
       "      <td>2021-02-18 12:23:48.000</td>\n",
       "      <td>0</td>\n",
       "      <td>0</td>\n",
       "      <td>[]</td>\n",
       "      <td>201-250</td>\n",
       "    </tr>\n",
       "  </tbody>\n",
       "</table>\n",
       "</div>"
      ],
      "text/plain": [
       "   yoxi_0  yoxi_1  yoxi_2                   yoxi_3                   yoxi_4  \\\n",
       "0   60776      34   13204                        0                        0   \n",
       "1   60779      34   13204                        0                        0   \n",
       "2   61734      34    4380  2021-02-18 08:22:38.547  2021-02-18 08:27:41.360   \n",
       "3   61775      34   10676  2021-02-18 09:14:10.177  2021-02-18 09:36:49.937   \n",
       "4   62030      34    5526  2021-02-18 12:32:07.573  2021-02-18 12:47:54.953   \n",
       "\n",
       "                                          yoxi_5  \\\n",
       "0                 POINT (121.5555267 25.0532422)   \n",
       "1                 POINT (121.5555267 25.0532422)   \n",
       "2  POINT (121.54587060213089 25.058407217787671)   \n",
       "3  POINT (121.61086957901716 25.059357414355343)   \n",
       "4  POINT (121.56557478010654 25.034527597856808)   \n",
       "\n",
       "                                         yoxi_6  yoxi_7  yoxi_8  yoxi_9  \\\n",
       "0                POINT (121.5679253 25.0412553)       0       0       0   \n",
       "1                  POINT (121.567925 25.041262)       0       0       0   \n",
       "2  POINT (121.52883924543858 25.05149683235264)       5    2516       0   \n",
       "3  POINT (121.5128955245018 25.044088092025909)      22   13927       0   \n",
       "4                 POINT (121.540168 25.0671179)      15    6327       0   \n",
       "\n",
       "   yoxi_10                  yoxi_11                  yoxi_12  yoxi_13 yoxi_14  \\\n",
       "0        1  2021-02-17 10:45:39.000  2021-02-17 10:49:04.243        0      []   \n",
       "1        0  2021-02-17 10:49:13.000  2021-02-17 10:50:00.540        0      []   \n",
       "2        0  2021-02-18 08:19:44.000                        0        0     [2]   \n",
       "3        0  2021-02-18 09:07:25.000                        0        0      []   \n",
       "4        0  2021-02-18 12:23:48.000                        0        0      []   \n",
       "\n",
       "   yoxi_15  \n",
       "0        0  \n",
       "1        0  \n",
       "2  101-150  \n",
       "3  301-400  \n",
       "4  201-250  "
      ]
     },
     "execution_count": 4,
     "metadata": {},
     "output_type": "execute_result"
    }
   ],
   "source": [
    "df = pd.read_csv('../Dataset/yoxi去識別化數據(僅供本次賽事使用)_20220627/yoxi_2021H1.csv')\n",
    "print(df.shape)\n",
    "df.head()"
   ]
  },
  {
   "cell_type": "code",
   "execution_count": 6,
   "metadata": {},
   "outputs": [
    {
     "data": {
      "text/plain": [
       "5161     305\n",
       "517      293\n",
       "2619     281\n",
       "9244     279\n",
       "923      263\n",
       "        ... \n",
       "2214       1\n",
       "852        1\n",
       "25282      1\n",
       "2515       1\n",
       "26024      1\n",
       "Name: yoxi_2, Length: 27452, dtype: int64"
      ]
     },
     "execution_count": 6,
     "metadata": {},
     "output_type": "execute_result"
    }
   ],
   "source": [
    "df['yoxi_2'].value_counts()"
   ]
  },
  {
   "cell_type": "code",
   "execution_count": 17,
   "metadata": {},
   "outputs": [
    {
     "data": {
      "text/plain": [
       "5161      True\n",
       "517       True\n",
       "2619      True\n",
       "9244      True\n",
       "923       True\n",
       "         ...  \n",
       "2214     False\n",
       "852      False\n",
       "25282    False\n",
       "2515     False\n",
       "26024    False\n",
       "Name: yoxi_2, Length: 27452, dtype: bool"
      ]
     },
     "execution_count": 17,
     "metadata": {},
     "output_type": "execute_result"
    }
   ],
   "source": [
    "df['yoxi_2'].value_counts()>10"
   ]
  },
  {
   "cell_type": "code",
   "execution_count": 27,
   "metadata": {},
   "outputs": [
    {
     "data": {
      "text/plain": [
       "(284283, 16)"
      ]
     },
     "execution_count": 27,
     "metadata": {},
     "output_type": "execute_result"
    }
   ],
   "source": [
    "df = df[(df['yoxi_10'].isin([0])) & (df['yoxi_9'].isin([0]))]\n",
    "df.shape"
   ]
  },
  {
   "cell_type": "code",
   "execution_count": 28,
   "metadata": {},
   "outputs": [
    {
     "data": {
      "text/plain": [
       "(283156, 16)"
      ]
     },
     "execution_count": 28,
     "metadata": {},
     "output_type": "execute_result"
    }
   ],
   "source": [
    "df = df[df['yoxi_15'] != '0']\n",
    "df.shape"
   ]
  },
  {
   "cell_type": "code",
   "execution_count": 35,
   "metadata": {},
   "outputs": [
    {
     "data": {
      "text/plain": [
       "101-150    80259\n",
       "151-200    56721\n",
       "1-100      55394\n",
       "201-250    39371\n",
       "251-300    23188\n",
       "301-400    19794\n",
       "401-500     5253\n",
       "500-        3169\n",
       "Name: yoxi_15, dtype: int64"
      ]
     },
     "execution_count": 35,
     "metadata": {},
     "output_type": "execute_result"
    }
   ],
   "source": [
    "df['yoxi_15'].value_counts()"
   ]
  },
  {
   "cell_type": "code",
   "execution_count": 48,
   "metadata": {},
   "outputs": [
    {
     "data": {
      "text/plain": [
       "39169     2021-01-01 00:00:09.000\n",
       "251220    2021-01-01 00:02:49.000\n",
       "265880    2021-01-01 00:06:16.000\n",
       "141304    2021-01-01 00:06:28.000\n",
       "17505     2021-01-01 00:08:16.000\n",
       "                   ...           \n",
       "315015    2021-06-30 23:59:00.860\n",
       "158719    2021-06-30 23:59:08.053\n",
       "79929     2021-06-30 23:59:38.963\n",
       "210678    2021-06-30 23:59:39.163\n",
       "115567    2021-06-30 23:59:41.390\n",
       "Name: yoxi_11, Length: 283156, dtype: object"
      ]
     },
     "execution_count": 48,
     "metadata": {},
     "output_type": "execute_result"
    }
   ],
   "source": [
    "df['yoxi_11'].sort_values()"
   ]
  },
  {
   "cell_type": "code",
   "execution_count": 43,
   "metadata": {},
   "outputs": [
    {
     "name": "stdout",
     "output_type": "stream",
     "text": [
      "10032375\n",
      "9926175\n",
      "2769700\n",
      "8858475\n",
      "6376700\n",
      "6927900\n",
      "2363850\n",
      "1901400\n",
      "173.60244882679513\n"
     ]
    }
   ],
   "source": [
    "count_list = df['yoxi_15'].value_counts()\n",
    "money_list = [125, 175, 50, 225, 275, 350, 450, 600]\n",
    "total_money = 0\n",
    "\n",
    "for i in range(len(money_list)):\n",
    "    print(money_list[i]*count_list[i])\n",
    "    total_money = total_money + money_list[i]*count_list[i]\n",
    "\n",
    "print(total_money/ len(df))"
   ]
  },
  {
   "cell_type": "code",
   "execution_count": 43,
   "metadata": {},
   "outputs": [
    {
     "data": {
      "text/plain": [
       "'P'"
      ]
     },
     "execution_count": 43,
     "metadata": {},
     "output_type": "execute_result"
    }
   ],
   "source": [
    "df['yoxi_5'][0][0]"
   ]
  },
  {
   "cell_type": "markdown",
   "metadata": {},
   "source": [
    "Data Cleaning"
   ]
  },
  {
   "cell_type": "code",
   "execution_count": 3,
   "metadata": {},
   "outputs": [
    {
     "name": "stdout",
     "output_type": "stream",
     "text": [
      "(314189, 16)\n"
     ]
    }
   ],
   "source": [
    "#df.isna().sum()\n",
    "\n",
    "df = df.dropna()\n",
    "df = df[(df['yoxi_10'].isin([0, 1])) & (df['yoxi_9'].isin([0, 1]))]\n",
    "print(df.shape)"
   ]
  },
  {
   "cell_type": "markdown",
   "metadata": {},
   "source": [
    "Data Analysis"
   ]
  },
  {
   "cell_type": "code",
   "execution_count": 49,
   "metadata": {},
   "outputs": [
    {
     "data": {
      "text/plain": [
       "<AxesSubplot: >"
      ]
     },
     "execution_count": 49,
     "metadata": {},
     "output_type": "execute_result"
    },
    {
     "data": {
      "image/png": "[encoded data removed]",
      "text/plain": [
       "<Figure size 640x480 with 1 Axes>"
      ]
     },
     "metadata": {},
     "output_type": "display_data"
    }
   ],
   "source": [
    "df.yoxi_9.value_counts(normalize= True).plot(kind='bar')\n",
    "df.yoxi_9.value_counts(normalize= True)\n"
   ]
  },
  {
   "cell_type": "code",
   "execution_count": 48,
   "metadata": {},
   "outputs": [
    {
     "data": {
      "text/plain": [
       "0    0.91916\n",
       "1    0.08084\n",
       "Name: yoxi_10, dtype: float64"
      ]
     },
     "execution_count": 48,
     "metadata": {},
     "output_type": "execute_result"
    },
    {
     "data": {
      "image/png": "[encoded data removed]",
      "text/plain": [
       "<Figure size 640x480 with 1 Axes>"
      ]
     },
     "metadata": {},
     "output_type": "display_data"
    }
   ],
   "source": [
    "df.yoxi_10.value_counts(normalize= True).plot(kind='bar')\n",
    "df.yoxi_10.value_counts(normalize= True)\n",
    "\n",
    "#乘客取消訂單的比例較司機高"
   ]
  },
  {
   "cell_type": "code",
   "execution_count": 66,
   "metadata": {},
   "outputs": [
    {
     "data": {
      "text/plain": [
       "0    309649\n",
       "1      4540\n",
       "Name: yoxi_9, dtype: int64"
      ]
     },
     "execution_count": 66,
     "metadata": {},
     "output_type": "execute_result"
    }
   ],
   "source": [
    "df['yoxi_9'].value_counts()"
   ]
  },
  {
   "cell_type": "code",
   "execution_count": 85,
   "metadata": {},
   "outputs": [
    {
     "data": {
      "text/plain": [
       "<AxesSubplot: title={'center': 'Order Cancelled'}>"
      ]
     },
     "execution_count": 85,
     "metadata": {},
     "output_type": "execute_result"
    },
    {
     "data": {
      "image/png": "[encoded data removed]",
      "text/plain": [
       "<Figure size 640x480 with 1 Axes>"
      ]
     },
     "metadata": {},
     "output_type": "display_data"
    }
   ],
   "source": [
    "y9 = list(df['yoxi_9'].value_counts())\n",
    "y10 = list(df['yoxi_10'].value_counts())\n",
    "\n",
    "df_cancel = pd.DataFrame({'Driver':y9, 'Passenger':y10}) \n",
    "df_cancel.plot(kind = 'bar', title ='Order Cancelled')\n"
   ]
  },
  {
   "cell_type": "code",
   "execution_count": 5,
   "metadata": {},
   "outputs": [
    {
     "data": {
      "text/html": [
       "<div>\n",
       "<style scoped>\n",
       "    .dataframe tbody tr th:only-of-type {\n",
       "        vertical-align: middle;\n",
       "    }\n",
       "\n",
       "    .dataframe tbody tr th {\n",
       "        vertical-align: top;\n",
       "    }\n",
       "\n",
       "    .dataframe thead th {\n",
       "        text-align: right;\n",
       "    }\n",
       "</style>\n",
       "<table border=\"1\" class=\"dataframe\">\n",
       "  <thead>\n",
       "    <tr style=\"text-align: right;\">\n",
       "      <th></th>\n",
       "      <th>yoxi_0</th>\n",
       "      <th>yoxi_1</th>\n",
       "      <th>yoxi_2</th>\n",
       "      <th>yoxi_3</th>\n",
       "      <th>yoxi_4</th>\n",
       "      <th>yoxi_5</th>\n",
       "      <th>yoxi_6</th>\n",
       "      <th>yoxi_7</th>\n",
       "      <th>yoxi_8</th>\n",
       "      <th>yoxi_9</th>\n",
       "      <th>yoxi_10</th>\n",
       "      <th>yoxi_11</th>\n",
       "      <th>yoxi_12</th>\n",
       "      <th>yoxi_13</th>\n",
       "      <th>yoxi_14</th>\n",
       "      <th>yoxi_15</th>\n",
       "    </tr>\n",
       "  </thead>\n",
       "  <tbody>\n",
       "    <tr>\n",
       "      <th>0</th>\n",
       "      <td>60776</td>\n",
       "      <td>34</td>\n",
       "      <td>13204</td>\n",
       "      <td>0</td>\n",
       "      <td>0</td>\n",
       "      <td>POINT (121.5555267 25.0532422)</td>\n",
       "      <td>POINT (121.5679253 25.0412553)</td>\n",
       "      <td>0</td>\n",
       "      <td>0</td>\n",
       "      <td>0</td>\n",
       "      <td>1</td>\n",
       "      <td>2021-02-17 10:45:39.000</td>\n",
       "      <td>2021-02-17 10:49:04.243</td>\n",
       "      <td>0</td>\n",
       "      <td>[]</td>\n",
       "      <td>0</td>\n",
       "    </tr>\n",
       "    <tr>\n",
       "      <th>1</th>\n",
       "      <td>60779</td>\n",
       "      <td>34</td>\n",
       "      <td>13204</td>\n",
       "      <td>0</td>\n",
       "      <td>0</td>\n",
       "      <td>POINT (121.5555267 25.0532422)</td>\n",
       "      <td>POINT (121.567925 25.041262)</td>\n",
       "      <td>0</td>\n",
       "      <td>0</td>\n",
       "      <td>0</td>\n",
       "      <td>0</td>\n",
       "      <td>2021-02-17 10:49:13.000</td>\n",
       "      <td>2021-02-17 10:50:00.540</td>\n",
       "      <td>0</td>\n",
       "      <td>[]</td>\n",
       "      <td>0</td>\n",
       "    </tr>\n",
       "    <tr>\n",
       "      <th>2</th>\n",
       "      <td>61734</td>\n",
       "      <td>34</td>\n",
       "      <td>4380</td>\n",
       "      <td>2021-02-18 08:22:38.547</td>\n",
       "      <td>2021-02-18 08:27:41.360</td>\n",
       "      <td>POINT (121.54587060213089 25.058407217787671)</td>\n",
       "      <td>POINT (121.52883924543858 25.05149683235264)</td>\n",
       "      <td>5</td>\n",
       "      <td>2516</td>\n",
       "      <td>0</td>\n",
       "      <td>0</td>\n",
       "      <td>2021-02-18 08:19:44.000</td>\n",
       "      <td>0</td>\n",
       "      <td>0</td>\n",
       "      <td>[2]</td>\n",
       "      <td>101-150</td>\n",
       "    </tr>\n",
       "    <tr>\n",
       "      <th>3</th>\n",
       "      <td>61775</td>\n",
       "      <td>34</td>\n",
       "      <td>10676</td>\n",
       "      <td>2021-02-18 09:14:10.177</td>\n",
       "      <td>2021-02-18 09:36:49.937</td>\n",
       "      <td>POINT (121.61086957901716 25.059357414355343)</td>\n",
       "      <td>POINT (121.5128955245018 25.044088092025909)</td>\n",
       "      <td>22</td>\n",
       "      <td>13927</td>\n",
       "      <td>0</td>\n",
       "      <td>0</td>\n",
       "      <td>2021-02-18 09:07:25.000</td>\n",
       "      <td>0</td>\n",
       "      <td>0</td>\n",
       "      <td>[]</td>\n",
       "      <td>301-400</td>\n",
       "    </tr>\n",
       "    <tr>\n",
       "      <th>4</th>\n",
       "      <td>62030</td>\n",
       "      <td>34</td>\n",
       "      <td>5526</td>\n",
       "      <td>2021-02-18 12:32:07.573</td>\n",
       "      <td>2021-02-18 12:47:54.953</td>\n",
       "      <td>POINT (121.56557478010654 25.034527597856808)</td>\n",
       "      <td>POINT (121.540168 25.0671179)</td>\n",
       "      <td>15</td>\n",
       "      <td>6327</td>\n",
       "      <td>0</td>\n",
       "      <td>0</td>\n",
       "      <td>2021-02-18 12:23:48.000</td>\n",
       "      <td>0</td>\n",
       "      <td>0</td>\n",
       "      <td>[]</td>\n",
       "      <td>201-250</td>\n",
       "    </tr>\n",
       "    <tr>\n",
       "      <th>...</th>\n",
       "      <td>...</td>\n",
       "      <td>...</td>\n",
       "      <td>...</td>\n",
       "      <td>...</td>\n",
       "      <td>...</td>\n",
       "      <td>...</td>\n",
       "      <td>...</td>\n",
       "      <td>...</td>\n",
       "      <td>...</td>\n",
       "      <td>...</td>\n",
       "      <td>...</td>\n",
       "      <td>...</td>\n",
       "      <td>...</td>\n",
       "      <td>...</td>\n",
       "      <td>...</td>\n",
       "      <td>...</td>\n",
       "    </tr>\n",
       "    <tr>\n",
       "      <th>316273</th>\n",
       "      <td>90730</td>\n",
       "      <td>67</td>\n",
       "      <td>9575</td>\n",
       "      <td>2021-03-10 01:36:05.397</td>\n",
       "      <td>2021-03-10 01:56:42.333</td>\n",
       "      <td>POINT (121.5448205 25.061915)</td>\n",
       "      <td>POINT (121.6118825 25.0584861)</td>\n",
       "      <td>20</td>\n",
       "      <td>8245</td>\n",
       "      <td>0</td>\n",
       "      <td>0</td>\n",
       "      <td>2021-03-10 01:32:29.000</td>\n",
       "      <td>0</td>\n",
       "      <td>0</td>\n",
       "      <td>[]</td>\n",
       "      <td>251-300</td>\n",
       "    </tr>\n",
       "    <tr>\n",
       "      <th>316274</th>\n",
       "      <td>91538</td>\n",
       "      <td>67</td>\n",
       "      <td>10345</td>\n",
       "      <td>2021-03-10 11:22:18.293</td>\n",
       "      <td>2021-03-10 11:26:32.483</td>\n",
       "      <td>POINT (121.5019237 25.1263822)</td>\n",
       "      <td>POINT (121.5135318 25.1275439)</td>\n",
       "      <td>4</td>\n",
       "      <td>1523</td>\n",
       "      <td>0</td>\n",
       "      <td>0</td>\n",
       "      <td>2021-03-10 11:18:03.000</td>\n",
       "      <td>0</td>\n",
       "      <td>0</td>\n",
       "      <td>[1]</td>\n",
       "      <td>1-100</td>\n",
       "    </tr>\n",
       "    <tr>\n",
       "      <th>316275</th>\n",
       "      <td>91755</td>\n",
       "      <td>67</td>\n",
       "      <td>3885</td>\n",
       "      <td>2021-03-10 13:45:06.417</td>\n",
       "      <td>2021-03-10 13:46:38.413</td>\n",
       "      <td>POINT (121.55313670635223 25.024633846081294)</td>\n",
       "      <td>POINT (121.55666381120682 25.028076258462356)</td>\n",
       "      <td>1</td>\n",
       "      <td>529</td>\n",
       "      <td>0</td>\n",
       "      <td>0</td>\n",
       "      <td>2021-03-10 13:36:34.000</td>\n",
       "      <td>0</td>\n",
       "      <td>0</td>\n",
       "      <td>[]</td>\n",
       "      <td>1-100</td>\n",
       "    </tr>\n",
       "    <tr>\n",
       "      <th>316276</th>\n",
       "      <td>91770</td>\n",
       "      <td>67</td>\n",
       "      <td>90</td>\n",
       "      <td>2021-03-10 13:58:43.107</td>\n",
       "      <td>2021-03-10 14:05:32.573</td>\n",
       "      <td>POINT (121.553657 25.036954)</td>\n",
       "      <td>POINT (121.54493182897568 25.03404715202533)</td>\n",
       "      <td>6</td>\n",
       "      <td>1741</td>\n",
       "      <td>0</td>\n",
       "      <td>0</td>\n",
       "      <td>2021-03-10 13:47:50.000</td>\n",
       "      <td>0</td>\n",
       "      <td>0</td>\n",
       "      <td>[2]</td>\n",
       "      <td>1-100</td>\n",
       "    </tr>\n",
       "    <tr>\n",
       "      <th>316277</th>\n",
       "      <td>92117</td>\n",
       "      <td>67</td>\n",
       "      <td>6753</td>\n",
       "      <td>2021-03-11 00:15:52.250</td>\n",
       "      <td>2021-03-11 00:26:33.307</td>\n",
       "      <td>POINT (121.51494540274143 25.030760247424496)</td>\n",
       "      <td>POINT (121.5268137 25.0292291)</td>\n",
       "      <td>10</td>\n",
       "      <td>2166</td>\n",
       "      <td>0</td>\n",
       "      <td>0</td>\n",
       "      <td>2021-03-11 00:08:10.000</td>\n",
       "      <td>0</td>\n",
       "      <td>0</td>\n",
       "      <td>[]</td>\n",
       "      <td>101-150</td>\n",
       "    </tr>\n",
       "  </tbody>\n",
       "</table>\n",
       "<p>314189 rows × 16 columns</p>\n",
       "</div>"
      ],
      "text/plain": [
       "        yoxi_0  yoxi_1  yoxi_2                   yoxi_3  \\\n",
       "0        60776      34   13204                        0   \n",
       "1        60779      34   13204                        0   \n",
       "2        61734      34    4380  2021-02-18 08:22:38.547   \n",
       "3        61775      34   10676  2021-02-18 09:14:10.177   \n",
       "4        62030      34    5526  2021-02-18 12:32:07.573   \n",
       "...        ...     ...     ...                      ...   \n",
       "316273   90730      67    9575  2021-03-10 01:36:05.397   \n",
       "316274   91538      67   10345  2021-03-10 11:22:18.293   \n",
       "316275   91755      67    3885  2021-03-10 13:45:06.417   \n",
       "316276   91770      67      90  2021-03-10 13:58:43.107   \n",
       "316277   92117      67    6753  2021-03-11 00:15:52.250   \n",
       "\n",
       "                         yoxi_4  \\\n",
       "0                             0   \n",
       "1                             0   \n",
       "2       2021-02-18 08:27:41.360   \n",
       "3       2021-02-18 09:36:49.937   \n",
       "4       2021-02-18 12:47:54.953   \n",
       "...                         ...   \n",
       "316273  2021-03-10 01:56:42.333   \n",
       "316274  2021-03-10 11:26:32.483   \n",
       "316275  2021-03-10 13:46:38.413   \n",
       "316276  2021-03-10 14:05:32.573   \n",
       "316277  2021-03-11 00:26:33.307   \n",
       "\n",
       "                                               yoxi_5  \\\n",
       "0                      POINT (121.5555267 25.0532422)   \n",
       "1                      POINT (121.5555267 25.0532422)   \n",
       "2       POINT (121.54587060213089 25.058407217787671)   \n",
       "3       POINT (121.61086957901716 25.059357414355343)   \n",
       "4       POINT (121.56557478010654 25.034527597856808)   \n",
       "...                                               ...   \n",
       "316273                  POINT (121.5448205 25.061915)   \n",
       "316274                 POINT (121.5019237 25.1263822)   \n",
       "316275  POINT (121.55313670635223 25.024633846081294)   \n",
       "316276                   POINT (121.553657 25.036954)   \n",
       "316277  POINT (121.51494540274143 25.030760247424496)   \n",
       "\n",
       "                                               yoxi_6  yoxi_7  yoxi_8  yoxi_9  \\\n",
       "0                      POINT (121.5679253 25.0412553)       0       0       0   \n",
       "1                        POINT (121.567925 25.041262)       0       0       0   \n",
       "2        POINT (121.52883924543858 25.05149683235264)       5    2516       0   \n",
       "3        POINT (121.5128955245018 25.044088092025909)      22   13927       0   \n",
       "4                       POINT (121.540168 25.0671179)      15    6327       0   \n",
       "...                                               ...     ...     ...     ...   \n",
       "316273                 POINT (121.6118825 25.0584861)      20    8245       0   \n",
       "316274                 POINT (121.5135318 25.1275439)       4    1523       0   \n",
       "316275  POINT (121.55666381120682 25.028076258462356)       1     529       0   \n",
       "316276   POINT (121.54493182897568 25.03404715202533)       6    1741       0   \n",
       "316277                 POINT (121.5268137 25.0292291)      10    2166       0   \n",
       "\n",
       "        yoxi_10                  yoxi_11                  yoxi_12  yoxi_13  \\\n",
       "0             1  2021-02-17 10:45:39.000  2021-02-17 10:49:04.243        0   \n",
       "1             0  2021-02-17 10:49:13.000  2021-02-17 10:50:00.540        0   \n",
       "2             0  2021-02-18 08:19:44.000                        0        0   \n",
       "3             0  2021-02-18 09:07:25.000                        0        0   \n",
       "4             0  2021-02-18 12:23:48.000                        0        0   \n",
       "...         ...                      ...                      ...      ...   \n",
       "316273        0  2021-03-10 01:32:29.000                        0        0   \n",
       "316274        0  2021-03-10 11:18:03.000                        0        0   \n",
       "316275        0  2021-03-10 13:36:34.000                        0        0   \n",
       "316276        0  2021-03-10 13:47:50.000                        0        0   \n",
       "316277        0  2021-03-11 00:08:10.000                        0        0   \n",
       "\n",
       "       yoxi_14  yoxi_15  \n",
       "0           []        0  \n",
       "1           []        0  \n",
       "2          [2]  101-150  \n",
       "3           []  301-400  \n",
       "4           []  201-250  \n",
       "...        ...      ...  \n",
       "316273      []  251-300  \n",
       "316274     [1]    1-100  \n",
       "316275      []    1-100  \n",
       "316276     [2]    1-100  \n",
       "316277      []  101-150  \n",
       "\n",
       "[314189 rows x 16 columns]"
      ]
     },
     "execution_count": 5,
     "metadata": {},
     "output_type": "execute_result"
    }
   ],
   "source": [
    "df"
   ]
  },
  {
   "cell_type": "code",
   "execution_count": 92,
   "metadata": {},
   "outputs": [
    {
     "data": {
      "text/plain": [
       "[]       0.608879\n",
       "[2]      0.269736\n",
       "[1,2]    0.101935\n",
       "[1]      0.019323\n",
       "[2,1]    0.000127\n",
       "Name: yoxi_14, dtype: float64"
      ]
     },
     "execution_count": 92,
     "metadata": {},
     "output_type": "execute_result"
    },
    {
     "data": {
      "image/png": "[encoded data removed]",
      "text/plain": [
       "<Figure size 640x480 with 1 Axes>"
      ]
     },
     "metadata": {},
     "output_type": "display_data"
    }
   ],
   "source": [
    "df.yoxi_14.value_counts(normalize= True).plot(kind='pie', label = 'Passenger Preference', autopct='%1.0f%%')\n",
    "df.yoxi_14.value_counts(normalize= True)\n",
    "\n",
    "#df[df.yoxi_15 == '0'] 使用優惠券？？"
   ]
  },
  {
   "cell_type": "code",
   "execution_count": null,
   "metadata": {},
   "outputs": [],
   "source": [
    "df.loc[df['yoxi'] == 83239381]"
   ]
  },
  {
   "cell_type": "code",
   "execution_count": 5,
   "metadata": {},
   "outputs": [
    {
     "data": {
      "text/plain": [
       "5161     305\n",
       "517      293\n",
       "2619     281\n",
       "9244     279\n",
       "923      263\n",
       "        ... \n",
       "2214       1\n",
       "852        1\n",
       "25282      1\n",
       "2515       1\n",
       "26024      1\n",
       "Name: yoxi_2, Length: 27452, dtype: int64"
      ]
     },
     "execution_count": 5,
     "metadata": {},
     "output_type": "execute_result"
    }
   ],
   "source": [
    "df['yoxi_2'].value_counts()"
   ]
  },
  {
   "cell_type": "code",
   "execution_count": 6,
   "metadata": {},
   "outputs": [
    {
     "data": {
      "text/plain": [
       "92      1385\n",
       "466     1359\n",
       "669     1157\n",
       "424     1094\n",
       "237     1092\n",
       "        ... \n",
       "1182       1\n",
       "1485       1\n",
       "1082       1\n",
       "994        1\n",
       "1814       1\n",
       "Name: yoxi_1, Length: 1816, dtype: int64"
      ]
     },
     "execution_count": 6,
     "metadata": {},
     "output_type": "execute_result"
    }
   ],
   "source": [
    "df['yoxi_1'].value_counts()"
   ]
  }
 ],
 "metadata": {
  "kernelspec": {
   "display_name": "Python 3.10.6 ('HOTAI-xmqxT9Ly')",
   "language": "python",
   "name": "python3"
  },
  "language_info": {
   "codemirror_mode": {
    "name": "ipython",
    "version": 3
   },
   "file_extension": ".py",
   "mimetype": "text/x-python",
   "name": "python",
   "nbconvert_exporter": "python",
   "pygments_lexer": "ipython3",
   "version": "3.10.8"
  },
  "orig_nbformat": 4,
  "vscode": {
   "interpreter": {
    "hash": "58c4ff3bf00527d3dc43688314088c98fbbe051f90418fc52f126ce1e392d7f7"
   }
  }
 },
 "nbformat": 4,
 "nbformat_minor": 2
}
